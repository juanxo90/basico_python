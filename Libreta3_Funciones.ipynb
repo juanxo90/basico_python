{
  "nbformat": 4,
  "nbformat_minor": 0,
  "metadata": {
    "colab": {
      "name": "Clase3-Funciones.ipynb",
      "provenance": [],
      "collapsed_sections": [
        "tYI71nVBd0rm"
      ],
      "authorship_tag": "ABX9TyMZmIWxyGjsi6QYtH/UVi0Q",
      "include_colab_link": true
    },
    "kernelspec": {
      "name": "python3",
      "display_name": "Python 3"
    },
    "language_info": {
      "name": "python"
    }
  },
  "cells": [
    {
      "cell_type": "markdown",
      "metadata": {
        "id": "view-in-github",
        "colab_type": "text"
      },
      "source": [
        "<a href=\"https://colab.research.google.com/github/juanxo90/basico_python/blob/main/Libreta3_Funciones.ipynb\" target=\"_parent\"><img src=\"https://colab.research.google.com/assets/colab-badge.svg\" alt=\"Open In Colab\"/></a>"
      ]
    },
    {
      "cell_type": "markdown",
      "source": [
        "## Funciones \n",
        "\n",
        "La una forma de estructurar un programa\n",
        "\n",
        "Sintaxis:\n",
        "\n",
        "\n",
        "```\n",
        "def nombre_de_funcion( parameteros ):\n",
        "    lo que queremos que haga\n",
        "    return [expression]\n",
        "```\n",
        "\n",
        "\n",
        "    "
      ],
      "metadata": {
        "id": "ITxJuej-nbO1"
      }
    },
    {
      "cell_type": "code",
      "source": [
        "a = 10 / 2\n",
        "b = 5 / 2\n",
        "c = 8 / 2\n",
        "d = 3 / 2\n",
        "\n",
        "lista = [a,b,c,d]"
      ],
      "metadata": {
        "id": "vhof7qiTTWsP"
      },
      "execution_count": null,
      "outputs": []
    },
    {
      "cell_type": "code",
      "source": [
        "lista"
      ],
      "metadata": {
        "colab": {
          "base_uri": "https://localhost:8080/"
        },
        "id": "WOdSoZwTTi7f",
        "outputId": "637afe3e-e36d-4d35-aa67-6b54ddf026f3"
      },
      "execution_count": null,
      "outputs": [
        {
          "output_type": "execute_result",
          "data": {
            "text/plain": [
              "[5.0, 2.5, 4.0, 1.5]"
            ]
          },
          "metadata": {},
          "execution_count": 7
        }
      ]
    },
    {
      "cell_type": "code",
      "execution_count": null,
      "metadata": {
        "id": "1TnZnmWRnQsU"
      },
      "outputs": [],
      "source": [
        "def dividir_entre_dos(numero):\n",
        "    resultado = numero / 2\n",
        "    return resultado"
      ]
    },
    {
      "cell_type": "code",
      "source": [
        "dividir_entre_dos(10)"
      ],
      "metadata": {
        "colab": {
          "base_uri": "https://localhost:8080/"
        },
        "id": "eY53PSbpoGM9",
        "outputId": "8d91931b-038b-4e7e-b9e5-c956b76db61b"
      },
      "execution_count": null,
      "outputs": [
        {
          "output_type": "execute_result",
          "data": {
            "text/plain": [
              "5.0"
            ]
          },
          "metadata": {},
          "execution_count": 2
        }
      ]
    },
    {
      "cell_type": "code",
      "source": [
        "def dividir_dos_num(x,y):\n",
        "    return x / y"
      ],
      "metadata": {
        "id": "1wBMbcA-fISb"
      },
      "execution_count": null,
      "outputs": []
    },
    {
      "cell_type": "code",
      "source": [
        "dividir_dos_num(10,2)"
      ],
      "metadata": {
        "colab": {
          "base_uri": "https://localhost:8080/"
        },
        "id": "DjOwBSRdfSG5",
        "outputId": "85a16cc2-2ccc-48a2-e1c2-6416883cc97f"
      },
      "execution_count": null,
      "outputs": [
        {
          "output_type": "execute_result",
          "data": {
            "text/plain": [
              "5.0"
            ]
          },
          "metadata": {},
          "execution_count": 4
        }
      ]
    },
    {
      "cell_type": "code",
      "source": [
        "x = 6"
      ],
      "metadata": {
        "id": "1y3L5TBgoR6a"
      },
      "execution_count": null,
      "outputs": []
    },
    {
      "cell_type": "code",
      "source": [
        "resultado = dividir_entre_dos(x)"
      ],
      "metadata": {
        "id": "Jz5TxRidoaFz"
      },
      "execution_count": null,
      "outputs": []
    },
    {
      "cell_type": "code",
      "source": [
        "resultado"
      ],
      "metadata": {
        "colab": {
          "base_uri": "https://localhost:8080/"
        },
        "id": "hNIG5bikoc5W",
        "outputId": "f6f4ca89-2161-4371-d548-15ad707eeb53"
      },
      "execution_count": null,
      "outputs": [
        {
          "output_type": "execute_result",
          "data": {
            "text/plain": [
              "3.0"
            ]
          },
          "metadata": {},
          "execution_count": 10
        }
      ]
    },
    {
      "cell_type": "code",
      "source": [
        "def multiplicacion(num1, num2):\n",
        "    return num1 * num2"
      ],
      "metadata": {
        "id": "kb_zH2GTofyE"
      },
      "execution_count": null,
      "outputs": []
    },
    {
      "cell_type": "code",
      "source": [
        "x, y = 5,3.0\n",
        "print(x,y)"
      ],
      "metadata": {
        "colab": {
          "base_uri": "https://localhost:8080/"
        },
        "id": "atsV_J7ypmCo",
        "outputId": "615dafee-177e-444c-8d87-3b06a0d1b238"
      },
      "execution_count": null,
      "outputs": [
        {
          "output_type": "stream",
          "name": "stdout",
          "text": [
            "5 3.0\n"
          ]
        }
      ]
    },
    {
      "cell_type": "code",
      "source": [
        "multiplicacion(x,y)"
      ],
      "metadata": {
        "colab": {
          "base_uri": "https://localhost:8080/"
        },
        "id": "DCpM8Kf-prwc",
        "outputId": "905c7da1-15ed-4243-f584-b7110df2e045"
      },
      "execution_count": null,
      "outputs": [
        {
          "output_type": "execute_result",
          "data": {
            "text/plain": [
              "15.0"
            ]
          },
          "metadata": {},
          "execution_count": 13
        }
      ]
    },
    {
      "cell_type": "code",
      "source": [
        "def es_par(numero):\n",
        "    return numero % 2 == 0"
      ],
      "metadata": {
        "id": "1DWMJl3qpyEh"
      },
      "execution_count": null,
      "outputs": []
    },
    {
      "cell_type": "code",
      "source": [
        "es_par(10)"
      ],
      "metadata": {
        "colab": {
          "base_uri": "https://localhost:8080/"
        },
        "id": "Fi0-rvo1qBoo",
        "outputId": "ae69eec7-793e-4da2-bfa8-fcf2b71492ce"
      },
      "execution_count": null,
      "outputs": [
        {
          "output_type": "execute_result",
          "data": {
            "text/plain": [
              "True"
            ]
          },
          "metadata": {},
          "execution_count": 15
        }
      ]
    },
    {
      "cell_type": "code",
      "source": [
        "es_par(3)"
      ],
      "metadata": {
        "id": "gNBl15IUrEoB",
        "colab": {
          "base_uri": "https://localhost:8080/"
        },
        "outputId": "0c76e0d0-ebf4-4107-fce4-3372503f74f4"
      },
      "execution_count": null,
      "outputs": [
        {
          "output_type": "execute_result",
          "data": {
            "text/plain": [
              "False"
            ]
          },
          "metadata": {},
          "execution_count": 16
        }
      ]
    },
    {
      "cell_type": "code",
      "source": [
        "2 ** (1/2)"
      ],
      "metadata": {
        "colab": {
          "base_uri": "https://localhost:8080/"
        },
        "id": "dC6YfxcTVsrS",
        "outputId": "6259693f-7caa-4f1c-f3d0-8bf88f36ce62"
      },
      "execution_count": null,
      "outputs": [
        {
          "output_type": "execute_result",
          "data": {
            "text/plain": [
              "1.4142135623730951"
            ]
          },
          "metadata": {},
          "execution_count": 17
        }
      ]
    },
    {
      "cell_type": "code",
      "source": [
        "def raiz(num):\n",
        "    return num ** (1/2)"
      ],
      "metadata": {
        "id": "P3u871-mV1Ze"
      },
      "execution_count": null,
      "outputs": []
    },
    {
      "cell_type": "code",
      "source": [
        "raiz(25)"
      ],
      "metadata": {
        "colab": {
          "base_uri": "https://localhost:8080/"
        },
        "id": "XrfEivcgV-YB",
        "outputId": "4ea15040-c0b7-41f1-dbe9-b56c32e55ffb"
      },
      "execution_count": null,
      "outputs": [
        {
          "output_type": "execute_result",
          "data": {
            "text/plain": [
              "5.0"
            ]
          },
          "metadata": {},
          "execution_count": 20
        }
      ]
    },
    {
      "cell_type": "code",
      "source": [
        "raiz(2)"
      ],
      "metadata": {
        "colab": {
          "base_uri": "https://localhost:8080/"
        },
        "id": "08MttxP7WJhp",
        "outputId": "48b9decd-abfa-4728-a2b8-39b770f8e4e9"
      },
      "execution_count": null,
      "outputs": [
        {
          "output_type": "execute_result",
          "data": {
            "text/plain": [
              "1.4142135623730951"
            ]
          },
          "metadata": {},
          "execution_count": 21
        }
      ]
    },
    {
      "cell_type": "code",
      "source": [
        "def numero_mas_diez(x):\n",
        "    return x + 10\n",
        "numero_mas_diez(10)"
      ],
      "metadata": {
        "colab": {
          "base_uri": "https://localhost:8080/"
        },
        "id": "jytOgcTkWKpZ",
        "outputId": "26a380e8-cb5a-468c-9e25-54bed701c486"
      },
      "execution_count": null,
      "outputs": [
        {
          "output_type": "execute_result",
          "data": {
            "text/plain": [
              "20"
            ]
          },
          "metadata": {},
          "execution_count": 22
        }
      ]
    },
    {
      "cell_type": "code",
      "source": [
        "def pyth(cadena):\n",
        "    return cadena + ' ' + 'pythonista'\n",
        "\n",
        "pyth('Lo más')"
      ],
      "metadata": {
        "colab": {
          "base_uri": "https://localhost:8080/",
          "height": 36
        },
        "id": "qAa-a1H5WafW",
        "outputId": "54d0208a-7e6b-4d5e-d19d-91b5e457b627"
      },
      "execution_count": null,
      "outputs": [
        {
          "output_type": "execute_result",
          "data": {
            "text/plain": [
              "'Lo más pythonista'"
            ],
            "application/vnd.google.colaboratory.intrinsic+json": {
              "type": "string"
            }
          },
          "metadata": {},
          "execution_count": 23
        }
      ]
    },
    {
      "cell_type": "code",
      "source": [
        "def sumar_numeros(x,y,z,a,b,c):\n",
        "    return x + y + z + a + b + c"
      ],
      "metadata": {
        "id": "mPTFMWHEW03w"
      },
      "execution_count": null,
      "outputs": []
    },
    {
      "cell_type": "code",
      "source": [
        "sumar_numeros(1,2,3,4,5,6)"
      ],
      "metadata": {
        "colab": {
          "base_uri": "https://localhost:8080/"
        },
        "id": "yR8TSSyUYzjl",
        "outputId": "bd2f10ca-6521-485b-a518-656730c27655"
      },
      "execution_count": null,
      "outputs": [
        {
          "output_type": "execute_result",
          "data": {
            "text/plain": [
              "21"
            ]
          },
          "metadata": {},
          "execution_count": 25
        }
      ]
    },
    {
      "cell_type": "markdown",
      "source": [
        "## controles de flujo"
      ],
      "metadata": {
        "id": "kTUdFHnOZVKi"
      }
    },
    {
      "cell_type": "markdown",
      "source": [
        "### While\n",
        "\n",
        "```\n",
        "while expresion:\n",
        "      cuerpo\n",
        "```\n",
        "\n"
      ],
      "metadata": {
        "id": "yYBtBedRZXuy"
      }
    },
    {
      "cell_type": "code",
      "source": [
        "n = 5\n",
        "sum = 0\n",
        "i = 1 \n",
        "\n",
        "while i <= n:\n",
        "    sum = sum + i\n",
        "    i = i + 1\n",
        "\n",
        "sum"
      ],
      "metadata": {
        "colab": {
          "base_uri": "https://localhost:8080/"
        },
        "id": "xLu9XnH6Y22o",
        "outputId": "2bcf498d-c0c0-4b55-c776-69cb75efd446"
      },
      "execution_count": null,
      "outputs": [
        {
          "output_type": "execute_result",
          "data": {
            "text/plain": [
              "15"
            ]
          },
          "metadata": {},
          "execution_count": 1
        }
      ]
    },
    {
      "cell_type": "code",
      "source": [
        "n = 10\n",
        "sum = 0 \n",
        "i = 1\n",
        "\n",
        "while i <= n:\n",
        "  sum = sum + i\n",
        "  print(sum)\n",
        "  i = i + 1\n",
        "\n",
        "print(f'el resultado es {sum}')"
      ],
      "metadata": {
        "colab": {
          "base_uri": "https://localhost:8080/"
        },
        "id": "2yuJnqzBcgQk",
        "outputId": "f87d4c8c-d0c1-4ac6-c7b4-38fc57cf0888"
      },
      "execution_count": null,
      "outputs": [
        {
          "output_type": "stream",
          "name": "stdout",
          "text": [
            "1\n",
            "3\n",
            "6\n",
            "10\n",
            "15\n",
            "21\n",
            "28\n",
            "36\n",
            "45\n",
            "55\n",
            "el resultado es 55\n"
          ]
        }
      ]
    },
    {
      "cell_type": "code",
      "source": [
        "n = 5 \n",
        "i = 1\n",
        "while i <= n:\n",
        "    print(\"El contador es igual a \", i)\n",
        "    i = i + 1"
      ],
      "metadata": {
        "colab": {
          "base_uri": "https://localhost:8080/"
        },
        "id": "nVBmritnabwJ",
        "outputId": "6a5d992e-b43d-4fa1-ef8d-d5ff9534e41a"
      },
      "execution_count": null,
      "outputs": [
        {
          "output_type": "stream",
          "name": "stdout",
          "text": [
            "El contador es igual a  1\n",
            "El contador es igual a  2\n",
            "El contador es igual a  3\n",
            "El contador es igual a  4\n",
            "El contador es igual a  5\n"
          ]
        }
      ]
    },
    {
      "cell_type": "code",
      "source": [
        "def mul_por_2(num):\n",
        "    return num * 2"
      ],
      "metadata": {
        "id": "oljd5p13bIuT"
      },
      "execution_count": null,
      "outputs": []
    },
    {
      "cell_type": "code",
      "source": [
        "lista = []\n",
        "i = 1\n",
        "\n",
        "while i <= 10:\n",
        "    lista.append(mul_por_2(i))\n",
        "    i = i + 1\n",
        "else:\n",
        "    print('Ya acabe la lista', i)"
      ],
      "metadata": {
        "colab": {
          "base_uri": "https://localhost:8080/"
        },
        "id": "g24G9YlmdK9z",
        "outputId": "5fa2c597-3661-4749-b4c6-3c91b51d2109"
      },
      "execution_count": null,
      "outputs": [
        {
          "output_type": "stream",
          "name": "stdout",
          "text": [
            "Ya acabe la lista 11\n"
          ]
        }
      ]
    },
    {
      "cell_type": "code",
      "source": [
        "lista"
      ],
      "metadata": {
        "colab": {
          "base_uri": "https://localhost:8080/"
        },
        "id": "bYaOsShudNGx",
        "outputId": "6bdcacb6-6846-4451-ddb7-f0969220b7c7"
      },
      "execution_count": null,
      "outputs": [
        {
          "output_type": "execute_result",
          "data": {
            "text/plain": [
              "[2, 4, 6, 8, 10, 12, 14, 16, 18, 20]"
            ]
          },
          "metadata": {},
          "execution_count": 51
        }
      ]
    },
    {
      "cell_type": "markdown",
      "source": [
        "### if, elif, else"
      ],
      "metadata": {
        "id": "IZt_YHaziF04"
      }
    },
    {
      "cell_type": "code",
      "source": [
        "x = 1\n",
        "y = 3\n",
        "\n",
        "if x < y:\n",
        "    print(f'{x} es menor que {y}')\n",
        "elif x > y:\n",
        "    print(f'{x} es mayor que {y}')\n",
        "elif x == y:\n",
        "    print(f'{x} es igual a {y}')\n",
        "else:\n",
        "    print(\"No se cumple ninguna condición\")\n"
      ],
      "metadata": {
        "colab": {
          "base_uri": "https://localhost:8080/"
        },
        "id": "rpPFM4Fadxx9",
        "outputId": "b60a702d-af9f-4205-e0c2-839845d4a9c2"
      },
      "execution_count": null,
      "outputs": [
        {
          "output_type": "stream",
          "name": "stdout",
          "text": [
            "1 es menor que 3\n"
          ]
        }
      ]
    },
    {
      "cell_type": "code",
      "source": [
        "a = 1\n",
        "b = a if a > 3 else -2\n",
        "b"
      ],
      "metadata": {
        "colab": {
          "base_uri": "https://localhost:8080/"
        },
        "id": "dAw_p5Umj_R1",
        "outputId": "2069e122-8b1f-4f9f-b504-caaa59f47e3e"
      },
      "execution_count": null,
      "outputs": [
        {
          "output_type": "execute_result",
          "data": {
            "text/plain": [
              "-2"
            ]
          },
          "metadata": {},
          "execution_count": 67
        }
      ]
    },
    {
      "cell_type": "code",
      "source": [
        "def mul_por_5(num):\n",
        "    return num * 5\n",
        "def div_por_5(num):\n",
        "    return num / 5   "
      ],
      "metadata": {
        "id": "zVzJNuPUlJue"
      },
      "execution_count": null,
      "outputs": []
    },
    {
      "cell_type": "code",
      "source": [
        "lista = []\n",
        "i = 1\n",
        "\n",
        "while i <= 10:\n",
        "    if i % 2 == 0:\n",
        "        lista.append(i)\n",
        "    elif i == 3:\n",
        "        lista.append(mul_por_5(i))\n",
        "    else:\n",
        "        lista.append(div_por_5(i))\n",
        "    i = i + 1\n",
        "else:\n",
        "    print(f'Termine la lista antes del {i}')\n",
        "lista"
      ],
      "metadata": {
        "colab": {
          "base_uri": "https://localhost:8080/"
        },
        "id": "GfwlEnh6lfgX",
        "outputId": "75a02a52-2be4-4f98-aa6d-a1a6d2508c90"
      },
      "execution_count": null,
      "outputs": [
        {
          "output_type": "stream",
          "name": "stdout",
          "text": [
            "Termine la lista antes del 11\n"
          ]
        },
        {
          "output_type": "execute_result",
          "data": {
            "text/plain": [
              "[0.2, 2, 15, 4, 1.0, 6, 1.4, 8, 1.8, 10]"
            ]
          },
          "metadata": {},
          "execution_count": 79
        }
      ]
    },
    {
      "cell_type": "code",
      "source": [
        "lista = []\n",
        "i = 1\n",
        "\n",
        "while i <= 15:\n",
        "    if i % 2 != 0:\n",
        "        lista.append(i)\n",
        "    else:\n",
        "        pass\n",
        "    i = i + 1\n",
        "else:\n",
        "    print(f'Termine la lista antes del {i}')\n",
        "lista"
      ],
      "metadata": {
        "colab": {
          "base_uri": "https://localhost:8080/"
        },
        "id": "EKTF8362mqcX",
        "outputId": "f270e8eb-2537-40ad-c2c6-59f4ba0a9bc9"
      },
      "execution_count": null,
      "outputs": [
        {
          "output_type": "stream",
          "name": "stdout",
          "text": [
            "Termine la lista antes del 16\n"
          ]
        },
        {
          "output_type": "execute_result",
          "data": {
            "text/plain": [
              "[1, 3, 5, 7, 9, 11, 13, 15]"
            ]
          },
          "metadata": {},
          "execution_count": 80
        }
      ]
    },
    {
      "cell_type": "markdown",
      "source": [
        "### For loop"
      ],
      "metadata": {
        "id": "9Et2lvq2oWd4"
      }
    },
    {
      "cell_type": "code",
      "source": [
        "integrantes = [\"Santi\", \"Pach\", \"Carlos\",\n",
        "               \"Mari\", \"Mateo\", \"Alan\", \"Pablo\"]"
      ],
      "metadata": {
        "id": "uTmoHkBzmrts"
      },
      "execution_count": null,
      "outputs": []
    },
    {
      "cell_type": "code",
      "source": [
        "for i in integrantes:\n",
        "    print(i + ' es muy pythonique')"
      ],
      "metadata": {
        "colab": {
          "base_uri": "https://localhost:8080/"
        },
        "id": "NKCznjl7pLrB",
        "outputId": "c669d1db-67b1-4691-9caf-cd817df19acf"
      },
      "execution_count": null,
      "outputs": [
        {
          "output_type": "stream",
          "name": "stdout",
          "text": [
            "Santi es muy pythonique\n",
            "Pach es muy pythonique\n",
            "Carlos es muy pythonique\n",
            "Mari es muy pythonique\n",
            "Mateo es muy pythonique\n",
            "Alan es muy pythonique\n",
            "Pablo es muy pythonique\n"
          ]
        }
      ]
    },
    {
      "cell_type": "code",
      "source": [
        "integrantes = {\"Santi\": 28, \"Pach\": 32, \"Carlos\": 30,\n",
        "               \"Mari\": 29, \"Mateo\": 31, \"Alan\": 30, \"Pablo\": 25}"
      ],
      "metadata": {
        "id": "1qGkLQmxpyjn"
      },
      "execution_count": null,
      "outputs": []
    },
    {
      "cell_type": "code",
      "source": [
        "for i in integrantes:\n",
        "    print(f'{i} tiene {integrantes[i]} años')"
      ],
      "metadata": {
        "colab": {
          "base_uri": "https://localhost:8080/"
        },
        "id": "48bQpf1Oqf4V",
        "outputId": "c62a3227-0723-4b18-d084-9ed44da8e988"
      },
      "execution_count": null,
      "outputs": [
        {
          "output_type": "stream",
          "name": "stdout",
          "text": [
            "Santi tiene 28 años\n",
            "Pach tiene 32 años\n",
            "Carlos tiene 30 años\n",
            "Mari tiene 29 años\n",
            "Mateo tiene 31 años\n",
            "Alan tiene 30 años\n",
            "Pablo tiene 25 años\n"
          ]
        }
      ]
    },
    {
      "cell_type": "code",
      "source": [
        "for i,v in enumerate(integrantes):\n",
        "    print(i, v, integrantes[v])"
      ],
      "metadata": {
        "colab": {
          "base_uri": "https://localhost:8080/"
        },
        "id": "Ojf_vSLPqhQb",
        "outputId": "05741b5f-ddfc-476a-91f7-ea08147d47f3"
      },
      "execution_count": null,
      "outputs": [
        {
          "output_type": "stream",
          "name": "stdout",
          "text": [
            "0 Santi 28\n",
            "1 Pach 32\n",
            "2 Carlos 30\n",
            "3 Mari 29\n",
            "4 Mateo 31\n",
            "5 Alan 30\n",
            "6 Pablo 25\n"
          ]
        }
      ]
    },
    {
      "cell_type": "code",
      "source": [
        "for i in enumerate(integrantes):\n",
        "    print(i)"
      ],
      "metadata": {
        "colab": {
          "base_uri": "https://localhost:8080/"
        },
        "id": "vUWT4GKosRoy",
        "outputId": "86592b15-74fd-4037-e0b9-1f7e6796b84c"
      },
      "execution_count": null,
      "outputs": [
        {
          "output_type": "stream",
          "name": "stdout",
          "text": [
            "(0, 'Santi')\n",
            "(1, 'Pach')\n",
            "(2, 'Carlos')\n",
            "(3, 'Mari')\n",
            "(4, 'Mateo')\n",
            "(5, 'Alan')\n",
            "(6, 'Pablo')\n"
          ]
        }
      ]
    },
    {
      "cell_type": "code",
      "source": [
        "cheves = [\"Corona\", \"Victoria\", \"Negra Modelo\", \"Pacifico\"]\n",
        "\n",
        "for i,v in enumerate(cheves):\n",
        "    print(i, v)"
      ],
      "metadata": {
        "colab": {
          "base_uri": "https://localhost:8080/"
        },
        "id": "0D_6c8EVr5eT",
        "outputId": "81408f52-6082-46d1-8312-724b7c2420d7"
      },
      "execution_count": null,
      "outputs": [
        {
          "output_type": "stream",
          "name": "stdout",
          "text": [
            "0 Corona\n",
            "1 Victoria\n",
            "2 Negra Modelo\n",
            "3 Pacifico\n"
          ]
        }
      ]
    },
    {
      "cell_type": "code",
      "source": [
        "range(1,10,2) #(inicio, final, salto)"
      ],
      "metadata": {
        "colab": {
          "base_uri": "https://localhost:8080/"
        },
        "id": "8cDdexIKsanO",
        "outputId": "2a35af67-30a0-40ff-927c-6c041379cc05"
      },
      "execution_count": null,
      "outputs": [
        {
          "output_type": "execute_result",
          "data": {
            "text/plain": [
              "range(1, 10, 2)"
            ]
          },
          "metadata": {},
          "execution_count": 97
        }
      ]
    },
    {
      "cell_type": "code",
      "source": [
        "for i in range(1,10,2):\n",
        "    print(i)"
      ],
      "metadata": {
        "colab": {
          "base_uri": "https://localhost:8080/"
        },
        "id": "xaKF9W3RswBe",
        "outputId": "4b9e5839-c356-4cf0-e173-08f4e471105f"
      },
      "execution_count": null,
      "outputs": [
        {
          "output_type": "stream",
          "name": "stdout",
          "text": [
            "1\n",
            "3\n",
            "5\n",
            "7\n",
            "9\n"
          ]
        }
      ]
    },
    {
      "cell_type": "code",
      "source": [
        "for i in cheves:\n",
        "    print(i)"
      ],
      "metadata": {
        "colab": {
          "base_uri": "https://localhost:8080/"
        },
        "id": "Ulz1KXEXtFpJ",
        "outputId": "89ec0fbb-267c-49de-9972-976a84b1ee1d"
      },
      "execution_count": null,
      "outputs": [
        {
          "output_type": "stream",
          "name": "stdout",
          "text": [
            "Corona\n",
            "Victoria\n",
            "Negra Modelo\n",
            "Pacifico\n"
          ]
        }
      ]
    },
    {
      "cell_type": "code",
      "source": [
        "for i in range(0,len(cheves)):\n",
        "    print(cheves[i])"
      ],
      "metadata": {
        "colab": {
          "base_uri": "https://localhost:8080/"
        },
        "id": "lDU9yDyOs3j6",
        "outputId": "d77b8216-66d4-4753-e945-afad2da8f03f"
      },
      "execution_count": null,
      "outputs": [
        {
          "output_type": "stream",
          "name": "stdout",
          "text": [
            "Corona\n",
            "Victoria\n",
            "Negra Modelo\n",
            "Pacifico\n"
          ]
        }
      ]
    },
    {
      "cell_type": "code",
      "source": [
        "for i in integrantes:\n",
        "    if integrantes[i] % 2 == 0:\n",
        "        print(f'{i} tiene {integrantes[i]} años, y es numero par')\n",
        "    else:\n",
        "        print(f'{i} tiene {integrantes[i]} años, y numero impar')"
      ],
      "metadata": {
        "colab": {
          "base_uri": "https://localhost:8080/"
        },
        "id": "fHkCve4itBHE",
        "outputId": "7bca1980-ca00-4c9d-a63c-e8367e11d391"
      },
      "execution_count": null,
      "outputs": [
        {
          "output_type": "stream",
          "name": "stdout",
          "text": [
            "Santi tiene 28 años, y es numero par\n",
            "Pach tiene 32 años, y es numero par\n",
            "Carlos tiene 30 años, y es numero par\n",
            "Mari tiene 29 años, y numero impar\n",
            "Mateo tiene 31 años, y numero impar\n",
            "Alan tiene 30 años, y es numero par\n",
            "Pablo tiene 25 años, y numero impar\n"
          ]
        }
      ]
    },
    {
      "cell_type": "markdown",
      "source": [
        "### funciones lambda"
      ],
      "metadata": {
        "id": "uSIx1J9Wwc5H"
      }
    },
    {
      "cell_type": "code",
      "source": [
        "def cuadrado(x):\n",
        "    res = x **2\n",
        "    return res\n",
        "cuadrado(2)"
      ],
      "metadata": {
        "colab": {
          "base_uri": "https://localhost:8080/"
        },
        "id": "pQLqnvNmwgFC",
        "outputId": "57806707-92c3-43e8-86d8-2d11ee18d4b8"
      },
      "execution_count": null,
      "outputs": [
        {
          "output_type": "execute_result",
          "data": {
            "text/plain": [
              "4"
            ]
          },
          "metadata": {},
          "execution_count": 5
        }
      ]
    },
    {
      "cell_type": "code",
      "source": [
        "def cuadrado(x):\n",
        "    return x ** 2\n",
        "cuadrado(3)"
      ],
      "metadata": {
        "colab": {
          "base_uri": "https://localhost:8080/"
        },
        "id": "_Zm7RHUUw2hd",
        "outputId": "05f1e994-e09d-4526-b39b-a039c6e6040a"
      },
      "execution_count": null,
      "outputs": [
        {
          "output_type": "execute_result",
          "data": {
            "text/plain": [
              "9"
            ]
          },
          "metadata": {},
          "execution_count": 6
        }
      ]
    },
    {
      "cell_type": "code",
      "source": [
        "def cuadrado(x): return x ** 2\n",
        "cuadrado(3)"
      ],
      "metadata": {
        "colab": {
          "base_uri": "https://localhost:8080/"
        },
        "id": "lvNIhy4uxQZW",
        "outputId": "5735f784-8240-49a4-9be0-ad075865cca4"
      },
      "execution_count": null,
      "outputs": [
        {
          "output_type": "execute_result",
          "data": {
            "text/plain": [
              "9"
            ]
          },
          "metadata": {},
          "execution_count": 7
        }
      ]
    },
    {
      "cell_type": "code",
      "source": [
        "cuadrado = lambda x: x **2\n",
        "cuadrado(3)"
      ],
      "metadata": {
        "colab": {
          "base_uri": "https://localhost:8080/"
        },
        "id": "UbrRYYduxWyq",
        "outputId": "ba5181cc-1ee9-48b8-fa90-51076daccb73"
      },
      "execution_count": null,
      "outputs": [
        {
          "output_type": "execute_result",
          "data": {
            "text/plain": [
              "9"
            ]
          },
          "metadata": {},
          "execution_count": 8
        }
      ]
    },
    {
      "cell_type": "code",
      "source": [
        "def listas(x, y):\n",
        "    lista_pares = []\n",
        "    lista_impares = []\n",
        "    for i in range(x,y+1):\n",
        "        if i % 2 == 0:\n",
        "            lista_pares.append(i)\n",
        "        else:\n",
        "            lista_impares.append(i)\n",
        "    return lista_pares, lista_impares\n",
        "listas(4, 12)"
      ],
      "metadata": {
        "colab": {
          "base_uri": "https://localhost:8080/"
        },
        "id": "pv4uXJjhwenC",
        "outputId": "43832822-c486-4c83-e569-77c465d63159"
      },
      "execution_count": null,
      "outputs": [
        {
          "output_type": "execute_result",
          "data": {
            "text/plain": [
              "([4, 6, 8, 10, 12], [5, 7, 9, 11])"
            ]
          },
          "metadata": {},
          "execution_count": 31
        }
      ]
    },
    {
      "cell_type": "markdown",
      "source": [
        "##### map function"
      ],
      "metadata": {
        "id": "y1Idfj3By2Yo"
      }
    },
    {
      "cell_type": "code",
      "source": [
        "numeros = [1,2,3,4,5]\n",
        "numeros_cuadradros = []\n",
        "for i in numeros:\n",
        "    numeros_cuadradros.append(i ** 2)\n",
        "numeros_cuadradros"
      ],
      "metadata": {
        "colab": {
          "base_uri": "https://localhost:8080/"
        },
        "id": "sIlHDbDeylJZ",
        "outputId": "286381fd-4b68-441b-fac2-f35f18dd95a7"
      },
      "execution_count": null,
      "outputs": [
        {
          "output_type": "execute_result",
          "data": {
            "text/plain": [
              "[1, 4, 9, 16, 25]"
            ]
          },
          "metadata": {},
          "execution_count": 9
        }
      ]
    },
    {
      "cell_type": "code",
      "source": [
        "numeros = [1,2,3,4,5]\n",
        "def cuadrado(i):\n",
        "    return i ** 2\n",
        "numeros_cuadradros = []\n",
        "for i in numeros:\n",
        "    numeros_cuadradros.append(cuadrado(i))\n",
        "numeros_cuadradros"
      ],
      "metadata": {
        "colab": {
          "base_uri": "https://localhost:8080/"
        },
        "id": "pDL8NXSIyd6q",
        "outputId": "349df227-6ca2-475e-9006-43a04131148a"
      },
      "execution_count": null,
      "outputs": [
        {
          "output_type": "execute_result",
          "data": {
            "text/plain": [
              "[1, 4, 9, 16, 25]"
            ]
          },
          "metadata": {},
          "execution_count": 10
        }
      ]
    },
    {
      "cell_type": "code",
      "source": [
        "numeros = [1,2,3,4,5]\n",
        "\n",
        "def cuadrado(x):\n",
        "    return x ** 2\n",
        "\n",
        "list(map(cuadrado, numeros))"
      ],
      "metadata": {
        "colab": {
          "base_uri": "https://localhost:8080/"
        },
        "id": "nwcWFAoVyLrz",
        "outputId": "7eadef7c-db03-485e-a14d-d7bee16afa5b"
      },
      "execution_count": null,
      "outputs": [
        {
          "output_type": "execute_result",
          "data": {
            "text/plain": [
              "[1, 4, 9, 16, 25]"
            ]
          },
          "metadata": {},
          "execution_count": 12
        }
      ]
    },
    {
      "cell_type": "code",
      "source": [
        "numeros = [1,2,3,4,5]\n",
        "\n",
        "list(map(lambda x: x**2, numeros))"
      ],
      "metadata": {
        "colab": {
          "base_uri": "https://localhost:8080/"
        },
        "id": "Tii9ZeNnzyuW",
        "outputId": "a7a0c07e-5ca9-408d-c232-84dd75e1548c"
      },
      "execution_count": null,
      "outputs": [
        {
          "output_type": "execute_result",
          "data": {
            "text/plain": [
              "[1, 4, 9, 16, 25]"
            ]
          },
          "metadata": {},
          "execution_count": 13
        }
      ]
    },
    {
      "cell_type": "code",
      "source": [
        "def primos(x):\n",
        "    if x % 2 == 0:\n",
        "        return True\n",
        "    else:\n",
        "        return False\n",
        "numeros = list(range(0, 31, 3))\n",
        "numeros\n",
        "\n",
        "list(map(primos, numeros))"
      ],
      "metadata": {
        "colab": {
          "base_uri": "https://localhost:8080/"
        },
        "id": "kXszpxrE0qb7",
        "outputId": "0570647b-e66f-4aa1-a60e-68901a7bbe11"
      },
      "execution_count": null,
      "outputs": [
        {
          "output_type": "execute_result",
          "data": {
            "text/plain": [
              "[True, False, True, False, True, False, True, False, True, False, True]"
            ]
          },
          "metadata": {},
          "execution_count": 28
        }
      ]
    },
    {
      "cell_type": "code",
      "source": [
        "numeros = list(range(1,5,1))\n",
        "list(map(lambda x: (x ** 2 ) / (x * 2),list(map(lambda x: (x * 2) / 6, numeros))))"
      ],
      "metadata": {
        "colab": {
          "base_uri": "https://localhost:8080/"
        },
        "id": "KW_FXsXuiQyo",
        "outputId": "46d87ba6-2530-4ebe-c329-aed9e0761e21"
      },
      "execution_count": null,
      "outputs": [
        {
          "output_type": "execute_result",
          "data": {
            "text/plain": [
              "[0.16666666666666666, 0.3333333333333333, 0.5, 0.6666666666666666]"
            ]
          },
          "metadata": {},
          "execution_count": 44
        }
      ]
    },
    {
      "cell_type": "markdown",
      "source": [
        "##### filter function"
      ],
      "metadata": {
        "id": "VDU3JCLDuN55"
      }
    },
    {
      "cell_type": "code",
      "source": [
        "def primos(x):\n",
        "    if x % 2 == 0:\n",
        "        return True\n",
        "    else:\n",
        "        return False\n",
        "numeros = list(range(0, 31, 3))\n",
        "numeros\n",
        "\n",
        "list(filter(primos, numeros))"
      ],
      "metadata": {
        "colab": {
          "base_uri": "https://localhost:8080/"
        },
        "id": "qKKFxoSLus1n",
        "outputId": "7b7beedc-1f09-4302-d1d8-3ddec618dd91"
      },
      "execution_count": null,
      "outputs": [
        {
          "output_type": "execute_result",
          "data": {
            "text/plain": [
              "[0, 6, 12, 18, 24, 30]"
            ]
          },
          "metadata": {},
          "execution_count": 46
        }
      ]
    },
    {
      "cell_type": "code",
      "source": [
        "numeros = [50, 25, 30, 11, 16, 17, 65, 40]\n",
        "\n",
        "def mayoria_edad(x):\n",
        "    if x >= 18:\n",
        "        return True\n",
        "    else:\n",
        "        return False\n",
        "\n",
        "list(filter(mayoria_edad, numeros))"
      ],
      "metadata": {
        "colab": {
          "base_uri": "https://localhost:8080/"
        },
        "id": "S5G_W9mauOWA",
        "outputId": "d64f03e6-916e-4a46-9d23-035b8b35bced"
      },
      "execution_count": null,
      "outputs": [
        {
          "output_type": "execute_result",
          "data": {
            "text/plain": [
              "[50, 25, 30, 65, 40]"
            ]
          },
          "metadata": {},
          "execution_count": 49
        }
      ]
    },
    {
      "cell_type": "code",
      "source": [
        "numeros = [50, 25, 30, 11, 16, 17, 65, 40]\n",
        "list(filter(lambda x: x >= 18 , numeros))"
      ],
      "metadata": {
        "colab": {
          "base_uri": "https://localhost:8080/"
        },
        "id": "Hwnvc5SpvcpR",
        "outputId": "7b9708ad-0dbe-451a-8716-c12112957e8e"
      },
      "execution_count": null,
      "outputs": [
        {
          "output_type": "execute_result",
          "data": {
            "text/plain": [
              "[50, 25, 30, 65, 40]"
            ]
          },
          "metadata": {},
          "execution_count": 57
        }
      ]
    },
    {
      "cell_type": "code",
      "source": [
        "edades = [12, 16, 19, None, 21, 25, 24, None, None, 16, 17, 25, 23, 28, None, 23, 35, 59, 67, None, 34, 21, 23, 15, 14, None, 18, 24, 23, 17]\n"
      ],
      "metadata": {
        "id": "VMji6PnLyYzb"
      },
      "execution_count": null,
      "outputs": []
    },
    {
      "cell_type": "code",
      "source": [
        "edades_filt = list(filter(lambda x: x != None, edades))\n",
        "print(edades_filt)"
      ],
      "metadata": {
        "colab": {
          "base_uri": "https://localhost:8080/"
        },
        "id": "FCJMhETNx3YS",
        "outputId": "66f2dc79-a9f3-44ee-bfa4-ee59b616662b"
      },
      "execution_count": null,
      "outputs": [
        {
          "output_type": "stream",
          "name": "stdout",
          "text": [
            "[12, 16, 19, 21, 25, 24, 16, 17, 25, 23, 28, 23, 35, 59, 67, 34, 21, 23, 15, 14, 18, 24, 23, 17]\n"
          ]
        }
      ]
    },
    {
      "cell_type": "code",
      "source": [
        "edades_filt = []\n",
        "for i in edades:\n",
        "    if i != None:\n",
        "        edades_filt.append(i)\n",
        "    else:\n",
        "        pass\n",
        "print(edades_filt)"
      ],
      "metadata": {
        "colab": {
          "base_uri": "https://localhost:8080/"
        },
        "id": "-Jfs8vuGx9o4",
        "outputId": "a1e273cb-e060-414a-8bd3-37dad862ea12"
      },
      "execution_count": null,
      "outputs": [
        {
          "output_type": "stream",
          "name": "stdout",
          "text": [
            "[12, 16, 19, 21, 25, 24, 16, 17, 25, 23, 28, 23, 35, 59, 67, 34, 21, 23, 15, 14, 18, 24, 23, 17]\n"
          ]
        }
      ]
    },
    {
      "cell_type": "code",
      "source": [
        "personas = [\n",
        "    {'edad': 18, 'credencial': True},\n",
        "    {'edad': 13, 'credencial': False},\n",
        "    {'edad': 24, 'credencial': False},\n",
        "    {'edad': 34, 'credencial': True}\n",
        "]\n",
        "\n",
        "mayor_de_edad = lambda persona: persona['edad'] >= 18\n",
        "\n",
        "credencial_vigente = lambda persona: persona['credencial'] == True\n",
        "\n",
        "puede_votar = lambda persona: mayor_de_edad(persona) \\\n",
        "and credencial_vigente(persona)"
      ],
      "metadata": {
        "id": "7AlgctXwyv7n"
      },
      "execution_count": null,
      "outputs": []
    },
    {
      "cell_type": "code",
      "source": [
        "persona = {'edad': 18, 'credencial': True}\n",
        "puede_votar(persona)"
      ],
      "metadata": {
        "colab": {
          "base_uri": "https://localhost:8080/"
        },
        "id": "Tal20l0Ayt2i",
        "outputId": "dc769fb6-587a-466a-f2b0-c260dce739fd"
      },
      "execution_count": null,
      "outputs": [
        {
          "output_type": "execute_result",
          "data": {
            "text/plain": [
              "True"
            ]
          },
          "metadata": {},
          "execution_count": 81
        }
      ]
    },
    {
      "cell_type": "code",
      "source": [
        "list(filter(puede_votar, personas))"
      ],
      "metadata": {
        "colab": {
          "base_uri": "https://localhost:8080/"
        },
        "id": "GCQEKRm81iuK",
        "outputId": "196eb6fb-69a0-4412-ea0b-93b54091256e"
      },
      "execution_count": null,
      "outputs": [
        {
          "output_type": "execute_result",
          "data": {
            "text/plain": [
              "[{'credencial': True, 'edad': 18}, {'credencial': True, 'edad': 34}]"
            ]
          },
          "metadata": {},
          "execution_count": 82
        }
      ]
    },
    {
      "cell_type": "markdown",
      "source": [
        "## código..."
      ],
      "metadata": {
        "id": "tYI71nVBd0rm"
      }
    }
  ]
}