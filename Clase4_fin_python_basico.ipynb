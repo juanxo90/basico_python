{
  "nbformat": 4,
  "nbformat_minor": 0,
  "metadata": {
    "colab": {
      "name": "Clase4-fin_python_basico.ipynb",
      "provenance": [],
      "authorship_tag": "ABX9TyPsKnJFwmc//lUFgKbxQbyf",
      "include_colab_link": true
    },
    "kernelspec": {
      "name": "python3",
      "display_name": "Python 3"
    },
    "language_info": {
      "name": "python"
    }
  },
  "cells": [
    {
      "cell_type": "markdown",
      "metadata": {
        "id": "view-in-github",
        "colab_type": "text"
      },
      "source": [
        "<a href=\"https://colab.research.google.com/github/juanxo90/basico_python/blob/main/Clase4_fin_python_basico.ipynb\" target=\"_parent\"><img src=\"https://colab.research.google.com/assets/colab-badge.svg\" alt=\"Open In Colab\"/></a>"
      ]
    },
    {
      "cell_type": "code",
      "execution_count": 1,
      "metadata": {
        "id": "dkC7f6yJUGjj"
      },
      "outputs": [],
      "source": [
        "# operador or y not\n",
        "def numero_divisible_entre_3(num):\n",
        "    if num % 3 == 0:\n",
        "        return True\n",
        "    else:\n",
        "        return False\n",
        "\n",
        "def numero_menor_a_10(num):\n",
        "    return num < 10"
      ]
    },
    {
      "cell_type": "code",
      "source": [
        "numero_menor_a_10(7) and numero_divisible_entre_3(9)"
      ],
      "metadata": {
        "colab": {
          "base_uri": "https://localhost:8080/"
        },
        "id": "X4RgsfK6lsfF",
        "outputId": "f879760f-ea0c-4417-c7c8-9f64d86f211f"
      },
      "execution_count": 17,
      "outputs": [
        {
          "output_type": "execute_result",
          "data": {
            "text/plain": [
              "True"
            ]
          },
          "metadata": {},
          "execution_count": 17
        }
      ]
    },
    {
      "cell_type": "code",
      "source": [
        "numero_menor_a_10(7) or numero_divisible_entre_3(10)"
      ],
      "metadata": {
        "colab": {
          "base_uri": "https://localhost:8080/"
        },
        "id": "JIWwy4KNmftR",
        "outputId": "29f5f865-3d91-4efe-c3d1-5f8209ab79f9"
      },
      "execution_count": 19,
      "outputs": [
        {
          "output_type": "execute_result",
          "data": {
            "text/plain": [
              "True"
            ]
          },
          "metadata": {},
          "execution_count": 19
        }
      ]
    },
    {
      "cell_type": "code",
      "source": [
        "not numero_divisible_entre_3(10)"
      ],
      "metadata": {
        "colab": {
          "base_uri": "https://localhost:8080/"
        },
        "id": "o8vW2zxvmZAo",
        "outputId": "354af077-5af3-480c-e527-b60993ddff2c"
      },
      "execution_count": 20,
      "outputs": [
        {
          "output_type": "execute_result",
          "data": {
            "text/plain": [
              "True"
            ]
          },
          "metadata": {},
          "execution_count": 20
        }
      ]
    },
    {
      "cell_type": "code",
      "source": [
        "import math"
      ],
      "metadata": {
        "id": "75myMMbdmjnB"
      },
      "execution_count": 21,
      "outputs": []
    },
    {
      "cell_type": "code",
      "source": [
        "math.factorial(4)"
      ],
      "metadata": {
        "colab": {
          "base_uri": "https://localhost:8080/"
        },
        "id": "yxuurHtQnb0E",
        "outputId": "fc72a48e-f106-461b-d9ec-fe56014e661f"
      },
      "execution_count": 25,
      "outputs": [
        {
          "output_type": "execute_result",
          "data": {
            "text/plain": [
              "24"
            ]
          },
          "metadata": {},
          "execution_count": 25
        }
      ]
    },
    {
      "cell_type": "code",
      "source": [
        "import numpy as np"
      ],
      "metadata": {
        "id": "iZjLLmEvnpac"
      },
      "execution_count": 26,
      "outputs": []
    },
    {
      "cell_type": "code",
      "source": [
        "type(np.int16('10'))"
      ],
      "metadata": {
        "colab": {
          "base_uri": "https://localhost:8080/"
        },
        "id": "OyUcX2rcn04j",
        "outputId": "72710eb7-bae1-4e75-c76a-587922cf1d38"
      },
      "execution_count": 29,
      "outputs": [
        {
          "output_type": "execute_result",
          "data": {
            "text/plain": [
              "numpy.int16"
            ]
          },
          "metadata": {},
          "execution_count": 29
        }
      ]
    },
    {
      "cell_type": "code",
      "source": [
        "np.random.normal(0, 0.1, 100)"
      ],
      "metadata": {
        "colab": {
          "base_uri": "https://localhost:8080/"
        },
        "id": "xCF0cgScnoNu",
        "outputId": "c7e3fe7a-a513-419b-8040-19ac35724dc0"
      },
      "execution_count": 33,
      "outputs": [
        {
          "output_type": "execute_result",
          "data": {
            "text/plain": [
              "array([ 0.15715129, -0.05282123, -0.12488168,  0.17840398, -0.13381242,\n",
              "       -0.02225863, -0.15182967,  0.00747289,  0.09820728, -0.13199057,\n",
              "        0.06604549, -0.05364192,  0.09746354, -0.01390371,  0.10756435,\n",
              "       -0.13307792,  0.02897899,  0.05474472, -0.03084994, -0.11175107,\n",
              "        0.07981457,  0.13605984,  0.02292776, -0.02639473,  0.10320055,\n",
              "       -0.04424948,  0.09650669,  0.06988785, -0.01045052,  0.08170394,\n",
              "        0.0618328 , -0.13651559,  0.05545357,  0.05448508, -0.10106562,\n",
              "        0.12583914, -0.05585785, -0.08646253,  0.15357939,  0.21871604,\n",
              "       -0.07245884, -0.05301152, -0.01810135,  0.21705891,  0.09622999,\n",
              "       -0.01502983,  0.08144253,  0.13234378, -0.01754197, -0.13673449,\n",
              "       -0.03827053, -0.02085198, -0.04575859, -0.11034073, -0.14437526,\n",
              "       -0.20580758,  0.1349803 , -0.06150642, -0.22084195,  0.13263019,\n",
              "        0.08184537,  0.09535093, -0.11798894,  0.05490374, -0.08541925,\n",
              "       -0.03593844,  0.04761444, -0.03042088, -0.0280422 , -0.13014137,\n",
              "       -0.04337118, -0.09999701,  0.08425973, -0.05962738, -0.03816981,\n",
              "        0.0227873 ,  0.0968051 ,  0.11702754, -0.15266647,  0.04792859,\n",
              "        0.04033268,  0.01140978, -0.0106352 , -0.06269073, -0.15852087,\n",
              "        0.1335154 , -0.08949822, -0.07288987,  0.10928113, -0.22066621,\n",
              "       -0.01569837,  0.10352095,  0.03439215,  0.14507999, -0.01913294,\n",
              "        0.06252749, -0.02132266,  0.04383185, -0.12807775,  0.14729018])"
            ]
          },
          "metadata": {},
          "execution_count": 33
        }
      ]
    },
    {
      "cell_type": "code",
      "source": [
        "import pandas as pd"
      ],
      "metadata": {
        "id": "qDFbM4kQnnLp"
      },
      "execution_count": 43,
      "outputs": []
    },
    {
      "cell_type": "code",
      "source": [
        "pd.DataFrame({'col1': [1, 2], 'col2': [3, 4]})"
      ],
      "metadata": {
        "colab": {
          "base_uri": "https://localhost:8080/",
          "height": 112
        },
        "id": "3kQBnpu8nl17",
        "outputId": "70266525-0bf6-43b3-efa7-118e15022ef1"
      },
      "execution_count": 45,
      "outputs": [
        {
          "output_type": "execute_result",
          "data": {
            "text/plain": [
              "   col1  col2\n",
              "0     1     3\n",
              "1     2     4"
            ],
            "text/html": [
              "\n",
              "  <div id=\"df-0903963b-8c59-46a3-952c-c6a3537c69a1\">\n",
              "    <div class=\"colab-df-container\">\n",
              "      <div>\n",
              "<style scoped>\n",
              "    .dataframe tbody tr th:only-of-type {\n",
              "        vertical-align: middle;\n",
              "    }\n",
              "\n",
              "    .dataframe tbody tr th {\n",
              "        vertical-align: top;\n",
              "    }\n",
              "\n",
              "    .dataframe thead th {\n",
              "        text-align: right;\n",
              "    }\n",
              "</style>\n",
              "<table border=\"1\" class=\"dataframe\">\n",
              "  <thead>\n",
              "    <tr style=\"text-align: right;\">\n",
              "      <th></th>\n",
              "      <th>col1</th>\n",
              "      <th>col2</th>\n",
              "    </tr>\n",
              "  </thead>\n",
              "  <tbody>\n",
              "    <tr>\n",
              "      <th>0</th>\n",
              "      <td>1</td>\n",
              "      <td>3</td>\n",
              "    </tr>\n",
              "    <tr>\n",
              "      <th>1</th>\n",
              "      <td>2</td>\n",
              "      <td>4</td>\n",
              "    </tr>\n",
              "  </tbody>\n",
              "</table>\n",
              "</div>\n",
              "      <button class=\"colab-df-convert\" onclick=\"convertToInteractive('df-0903963b-8c59-46a3-952c-c6a3537c69a1')\"\n",
              "              title=\"Convert this dataframe to an interactive table.\"\n",
              "              style=\"display:none;\">\n",
              "        \n",
              "  <svg xmlns=\"http://www.w3.org/2000/svg\" height=\"24px\"viewBox=\"0 0 24 24\"\n",
              "       width=\"24px\">\n",
              "    <path d=\"M0 0h24v24H0V0z\" fill=\"none\"/>\n",
              "    <path d=\"M18.56 5.44l.94 2.06.94-2.06 2.06-.94-2.06-.94-.94-2.06-.94 2.06-2.06.94zm-11 1L8.5 8.5l.94-2.06 2.06-.94-2.06-.94L8.5 2.5l-.94 2.06-2.06.94zm10 10l.94 2.06.94-2.06 2.06-.94-2.06-.94-.94-2.06-.94 2.06-2.06.94z\"/><path d=\"M17.41 7.96l-1.37-1.37c-.4-.4-.92-.59-1.43-.59-.52 0-1.04.2-1.43.59L10.3 9.45l-7.72 7.72c-.78.78-.78 2.05 0 2.83L4 21.41c.39.39.9.59 1.41.59.51 0 1.02-.2 1.41-.59l7.78-7.78 2.81-2.81c.8-.78.8-2.07 0-2.86zM5.41 20L4 18.59l7.72-7.72 1.47 1.35L5.41 20z\"/>\n",
              "  </svg>\n",
              "      </button>\n",
              "      \n",
              "  <style>\n",
              "    .colab-df-container {\n",
              "      display:flex;\n",
              "      flex-wrap:wrap;\n",
              "      gap: 12px;\n",
              "    }\n",
              "\n",
              "    .colab-df-convert {\n",
              "      background-color: #E8F0FE;\n",
              "      border: none;\n",
              "      border-radius: 50%;\n",
              "      cursor: pointer;\n",
              "      display: none;\n",
              "      fill: #1967D2;\n",
              "      height: 32px;\n",
              "      padding: 0 0 0 0;\n",
              "      width: 32px;\n",
              "    }\n",
              "\n",
              "    .colab-df-convert:hover {\n",
              "      background-color: #E2EBFA;\n",
              "      box-shadow: 0px 1px 2px rgba(60, 64, 67, 0.3), 0px 1px 3px 1px rgba(60, 64, 67, 0.15);\n",
              "      fill: #174EA6;\n",
              "    }\n",
              "\n",
              "    [theme=dark] .colab-df-convert {\n",
              "      background-color: #3B4455;\n",
              "      fill: #D2E3FC;\n",
              "    }\n",
              "\n",
              "    [theme=dark] .colab-df-convert:hover {\n",
              "      background-color: #434B5C;\n",
              "      box-shadow: 0px 1px 3px 1px rgba(0, 0, 0, 0.15);\n",
              "      filter: drop-shadow(0px 1px 2px rgba(0, 0, 0, 0.3));\n",
              "      fill: #FFFFFF;\n",
              "    }\n",
              "  </style>\n",
              "\n",
              "      <script>\n",
              "        const buttonEl =\n",
              "          document.querySelector('#df-0903963b-8c59-46a3-952c-c6a3537c69a1 button.colab-df-convert');\n",
              "        buttonEl.style.display =\n",
              "          google.colab.kernel.accessAllowed ? 'block' : 'none';\n",
              "\n",
              "        async function convertToInteractive(key) {\n",
              "          const element = document.querySelector('#df-0903963b-8c59-46a3-952c-c6a3537c69a1');\n",
              "          const dataTable =\n",
              "            await google.colab.kernel.invokeFunction('convertToInteractive',\n",
              "                                                     [key], {});\n",
              "          if (!dataTable) return;\n",
              "\n",
              "          const docLinkHtml = 'Like what you see? Visit the ' +\n",
              "            '<a target=\"_blank\" href=https://colab.research.google.com/notebooks/data_table.ipynb>data table notebook</a>'\n",
              "            + ' to learn more about interactive tables.';\n",
              "          element.innerHTML = '';\n",
              "          dataTable['output_type'] = 'display_data';\n",
              "          await google.colab.output.renderOutput(dataTable, element);\n",
              "          const docLink = document.createElement('div');\n",
              "          docLink.innerHTML = docLinkHtml;\n",
              "          element.appendChild(docLink);\n",
              "        }\n",
              "      </script>\n",
              "    </div>\n",
              "  </div>\n",
              "  "
            ]
          },
          "metadata": {},
          "execution_count": 45
        }
      ]
    },
    {
      "cell_type": "code",
      "source": [
        "!pip install requests"
      ],
      "metadata": {
        "colab": {
          "base_uri": "https://localhost:8080/"
        },
        "id": "4lIAq0ZnqxiG",
        "outputId": "5bafb32a-da82-4861-991c-71d3cc0e135c"
      },
      "execution_count": 46,
      "outputs": [
        {
          "output_type": "stream",
          "name": "stdout",
          "text": [
            "Looking in indexes: https://pypi.org/simple, https://us-python.pkg.dev/colab-wheels/public/simple/\n",
            "Requirement already satisfied: requests in /usr/local/lib/python3.7/dist-packages (2.23.0)\n",
            "Requirement already satisfied: idna<3,>=2.5 in /usr/local/lib/python3.7/dist-packages (from requests) (2.10)\n",
            "Requirement already satisfied: chardet<4,>=3.0.2 in /usr/local/lib/python3.7/dist-packages (from requests) (3.0.4)\n",
            "Requirement already satisfied: certifi>=2017.4.17 in /usr/local/lib/python3.7/dist-packages (from requests) (2022.6.15)\n",
            "Requirement already satisfied: urllib3!=1.25.0,!=1.25.1,<1.26,>=1.21.1 in /usr/local/lib/python3.7/dist-packages (from requests) (1.24.3)\n"
          ]
        }
      ]
    },
    {
      "cell_type": "code",
      "source": [
        "def peso_pokemon(numero):\n",
        "    import requests\n",
        "    return requests.get(f\"https://pokeapi.co/api/v2/pokemon/{numero}\").json()['weight']"
      ],
      "metadata": {
        "id": "4bQSlS2Low9y"
      },
      "execution_count": 64,
      "outputs": []
    },
    {
      "cell_type": "code",
      "source": [
        "peso_pokemon(149)"
      ],
      "metadata": {
        "colab": {
          "base_uri": "https://localhost:8080/"
        },
        "id": "4hvrzYIHr538",
        "outputId": "878d1f83-96bd-48de-85bc-d4e8ae81ccd7"
      },
      "execution_count": 81,
      "outputs": [
        {
          "output_type": "execute_result",
          "data": {
            "text/plain": [
              "2100"
            ]
          },
          "metadata": {},
          "execution_count": 81
        }
      ]
    },
    {
      "cell_type": "code",
      "source": [
        "poke_list = list(range(1,152,1))\n",
        "print(poke_list)"
      ],
      "metadata": {
        "colab": {
          "base_uri": "https://localhost:8080/"
        },
        "id": "CofmOHc4sACw",
        "outputId": "e066fd81-0329-4dfe-d81b-be51550c558b"
      },
      "execution_count": 74,
      "outputs": [
        {
          "output_type": "stream",
          "name": "stdout",
          "text": [
            "[1, 2, 3, 4, 5, 6, 7, 8, 9, 10, 11, 12, 13, 14, 15, 16, 17, 18, 19, 20, 21, 22, 23, 24, 25, 26, 27, 28, 29, 30, 31, 32, 33, 34, 35, 36, 37, 38, 39, 40, 41, 42, 43, 44, 45, 46, 47, 48, 49, 50, 51, 52, 53, 54, 55, 56, 57, 58, 59, 60, 61, 62, 63, 64, 65, 66, 67, 68, 69, 70, 71, 72, 73, 74, 75, 76, 77, 78, 79, 80, 81, 82, 83, 84, 85, 86, 87, 88, 89, 90, 91, 92, 93, 94, 95, 96, 97, 98, 99, 100, 101, 102, 103, 104, 105, 106, 107, 108, 109, 110, 111, 112, 113, 114, 115, 116, 117, 118, 119, 120, 121, 122, 123, 124, 125, 126, 127, 128, 129, 130, 131, 132, 133, 134, 135, 136, 137, 138, 139, 140, 141, 142, 143, 144, 145, 146, 147, 148, 149, 150, 151]\n"
          ]
        }
      ]
    },
    {
      "cell_type": "code",
      "source": [
        "90 % 10"
      ],
      "metadata": {
        "colab": {
          "base_uri": "https://localhost:8080/"
        },
        "id": "A6LIYc4XyzeL",
        "outputId": "f9e49711-90ea-458c-9af6-d859bc20ae1b"
      },
      "execution_count": 80,
      "outputs": [
        {
          "output_type": "execute_result",
          "data": {
            "text/plain": [
              "0"
            ]
          },
          "metadata": {},
          "execution_count": 80
        }
      ]
    },
    {
      "cell_type": "code",
      "source": [
        "def poke_exclu(x):\n",
        "    if x == 143 or x == 130 or x == 149:\n",
        "        return False\n",
        "    else:\n",
        "        return True\n",
        "def poke_peso_min(x):\n",
        "    if peso_pokemon(x) > 500:\n",
        "        return False\n",
        "    else:\n",
        "        return True\n",
        "poke_lista_filtrada = list(filter(poke_peso_min, poke_list))"
      ],
      "metadata": {
        "id": "17Ve2cjrxtGj"
      },
      "execution_count": 87,
      "outputs": []
    },
    {
      "cell_type": "markdown",
      "source": [
        "![STDEVA-FUNCTION-in-Excel-1.png](data:image/png;base64,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)"
      ],
      "metadata": {
        "id": "l3eB0DnS2Cah"
      }
    },
    {
      "cell_type": "code",
      "source": [
        "def std_dev(lista):\n",
        "    promedio = sum(lista)/len(lista)\n",
        "    \n",
        "    def cuadrado_resta(x):\n",
        "        return (x - promedio) ** 2\n",
        "    return (sum(list(map(cuadrado_resta, lista))) / (len(lista) - 1) ) ** (1/2)"
      ],
      "metadata": {
        "id": "RWPUAOlm4wbI"
      },
      "execution_count": null,
      "outputs": []
    },
    {
      "cell_type": "code",
      "source": [
        "poke_pesos = list(map(peso_pokemon, poke_lista_filtrada))\n",
        "poke_promedio = sum(poke_pesos)/len(poke_pesos)\n",
        "poke_std = std_dev(poke_pesos)\n",
        "print(f'El peso promedio es: {poke_promedio} +/- {poke_std}')"
      ],
      "metadata": {
        "colab": {
          "base_uri": "https://localhost:8080/"
        },
        "id": "nSRHiOBJzwQ0",
        "outputId": "b7ee0e88-f96c-4342-e6c6-0544ed83e54c"
      },
      "execution_count": 101,
      "outputs": [
        {
          "output_type": "stream",
          "name": "stdout",
          "text": [
            "El peso promedio es: 190.97115384615384 +/- 136.7068621178616\n"
          ]
        }
      ]
    },
    {
      "cell_type": "code",
      "source": [
        "def pokemon(numero):\n",
        "  '''\n",
        "  Funcion que obtiene la url de la pokeapi a partir del \n",
        "  numero del pokemon\n",
        "  '''\n",
        "  import requests\n",
        "  return requests.get(f\"https://pokeapi.co/api/v2/pokemon/{numero}\").json()"
      ],
      "metadata": {
        "id": "OpcQQ3cW6XYc"
      },
      "execution_count": 103,
      "outputs": []
    },
    {
      "cell_type": "code",
      "source": [
        "# Lista vacia con pesos\n",
        "pesos_pokemon = []\n",
        "# inicio lista de peso promedio\n",
        "peso_promedio = 0\n",
        "# pokemones baneados\n",
        "baneados = [143, 130, 149]\n",
        "\n",
        "# iteracion entre pokemons 1 (bulbasaur) a 151 (mew)\n",
        "for i in list(range(1,152)):\n",
        "  # condicionante si no esta en baneados y no es divisible entre 10\n",
        "  if i not in baneados and i % 10 != 0:\n",
        "    type_rock = False\n",
        "    # iteracion a tipo de pokemon\n",
        "    for tipo in pokemon(i)[\"types\"]:\n",
        "      # condicionante si es tipo roca \n",
        "      if tipo[\"type\"][\"name\"] == \"rock\":\n",
        "        # imprime el nombre del pokemon tipo roca\n",
        "        print(pokemon(i)[\"name\"])\n",
        "        type_rock = True\n",
        "    # condicionante false si no es tipo roca \n",
        "    if not type_rock :\n",
        "      # suma el peso del pokemon \n",
        "      #peso_promedio += pokemon(i)[\"weight\"]\n",
        "      peso_promedio = peso_promedio + pokemon(i)[\"weight\"]\n",
        "      # agregamos peso del pokemon \n",
        "      pesos_pokemon.append(pokemon(i)[\"weight\"])\n",
        "\n",
        "print(peso_promedio / len(pesos_pokemon))"
      ],
      "metadata": {
        "colab": {
          "base_uri": "https://localhost:8080/"
        },
        "id": "8En4crbo4lJm",
        "outputId": "e2135870-e7f6-42de-e73b-756f959011ef"
      },
      "execution_count": 112,
      "outputs": [
        {
          "output_type": "stream",
          "name": "stdout",
          "text": [
            "geodude\n",
            "graveler\n",
            "golem\n",
            "onix\n",
            "rhyhorn\n",
            "rhydon\n",
            "omanyte\n",
            "omastar\n",
            "kabutops\n",
            "aerodactyl\n",
            "377.28225806451616\n"
          ]
        }
      ]
    },
    {
      "cell_type": "code",
      "source": [
        "pesos_pokemon[5]"
      ],
      "metadata": {
        "colab": {
          "base_uri": "https://localhost:8080/"
        },
        "id": "77hjupbm6VIr",
        "outputId": "e45c1fce-6191-449d-ee4e-a6295ac9d25a"
      },
      "execution_count": 114,
      "outputs": [
        {
          "output_type": "execute_result",
          "data": {
            "text/plain": [
              "905"
            ]
          },
          "metadata": {},
          "execution_count": 114
        }
      ]
    }
  ]
}