{
  "nbformat": 4,
  "nbformat_minor": 0,
  "metadata": {
    "colab": {
      "name": "Clase2-Estructuras.ipynb",
      "provenance": [],
      "authorship_tag": "ABX9TyMUGGaKDJ4p0DpkkEwFMn5z",
      "include_colab_link": true
    },
    "kernelspec": {
      "name": "python3",
      "display_name": "Python 3"
    },
    "language_info": {
      "name": "python"
    }
  },
  "cells": [
    {
      "cell_type": "markdown",
      "metadata": {
        "id": "view-in-github",
        "colab_type": "text"
      },
      "source": [
        "<a href=\"https://colab.research.google.com/github/juanxo90/basico_python/blob/main/Libreta2_Estructuras.ipynb\" target=\"_parent\"><img src=\"https://colab.research.google.com/assets/colab-badge.svg\" alt=\"Open In Colab\"/></a>"
      ]
    },
    {
      "cell_type": "markdown",
      "source": [
        "# Estructura de los datos\n",
        "\n",
        "* Listas\n",
        "* Tuplas\n",
        "* Conjuntos\n",
        "* Diccionarios"
      ],
      "metadata": {
        "id": "5kmmyz3ui4UW"
      }
    },
    {
      "cell_type": "markdown",
      "source": [
        "### Listas\n",
        "Colección ordeanda, modificable, indexable y permite duplicados"
      ],
      "metadata": {
        "id": "ekFbyJwGjhA_"
      }
    },
    {
      "cell_type": "code",
      "source": [
        "cheves = ['corona', 'victoria', 'gallo', 'indio', 'bohemia', 'pacifico']"
      ],
      "metadata": {
        "id": "CgD2MJEMjgAs"
      },
      "execution_count": null,
      "outputs": []
    },
    {
      "cell_type": "code",
      "execution_count": null,
      "metadata": {
        "id": "oR_leSpLibfg"
      },
      "outputs": [],
      "source": [
        "precio_min = [10, 10, 5, 12, 15, 10]\n",
        "precio_max = [25, 22, 18, 20, 30, 22]"
      ]
    },
    {
      "cell_type": "code",
      "source": [
        "es_obscura = [False, False, False, False, True, False]\n",
        "es_clara = [True, True, True, True, False, True]"
      ],
      "metadata": {
        "id": "B2iz1BBSkLGP"
      },
      "execution_count": null,
      "outputs": []
    },
    {
      "cell_type": "code",
      "source": [
        "type(cheves)"
      ],
      "metadata": {
        "colab": {
          "base_uri": "https://localhost:8080/"
        },
        "id": "bPfDJQsjkxZQ",
        "outputId": "73bd3303-991d-4e22-b05d-e6685420809e"
      },
      "execution_count": null,
      "outputs": [
        {
          "output_type": "execute_result",
          "data": {
            "text/plain": [
              "list"
            ]
          },
          "metadata": {},
          "execution_count": 4
        }
      ]
    },
    {
      "cell_type": "code",
      "source": [
        "cheves[0]"
      ],
      "metadata": {
        "colab": {
          "base_uri": "https://localhost:8080/",
          "height": 35
        },
        "id": "NU8DnKxgk328",
        "outputId": "dd461115-2b34-4820-ffa4-9292e387615b"
      },
      "execution_count": null,
      "outputs": [
        {
          "output_type": "execute_result",
          "data": {
            "text/plain": [
              "'corona'"
            ],
            "application/vnd.google.colaboratory.intrinsic+json": {
              "type": "string"
            }
          },
          "metadata": {},
          "execution_count": 5
        }
      ]
    },
    {
      "cell_type": "code",
      "source": [
        "cheves[5]"
      ],
      "metadata": {
        "colab": {
          "base_uri": "https://localhost:8080/",
          "height": 35
        },
        "id": "5n2mJ8LblDpX",
        "outputId": "57b259ba-e12c-48fb-e931-5d15ed6a0bd8"
      },
      "execution_count": null,
      "outputs": [
        {
          "output_type": "execute_result",
          "data": {
            "text/plain": [
              "'pacifico'"
            ],
            "application/vnd.google.colaboratory.intrinsic+json": {
              "type": "string"
            }
          },
          "metadata": {},
          "execution_count": 6
        }
      ]
    },
    {
      "cell_type": "code",
      "source": [
        "cheves[6]"
      ],
      "metadata": {
        "colab": {
          "base_uri": "https://localhost:8080/",
          "height": 167
        },
        "id": "W4F3VnTQlBM6",
        "outputId": "cf621c07-b73b-444a-f79c-4134934f318b"
      },
      "execution_count": null,
      "outputs": [
        {
          "output_type": "error",
          "ename": "IndexError",
          "evalue": "ignored",
          "traceback": [
            "\u001b[0;31m---------------------------------------------------------------------------\u001b[0m",
            "\u001b[0;31mIndexError\u001b[0m                                Traceback (most recent call last)",
            "\u001b[0;32m<ipython-input-7-f94b7f00be20>\u001b[0m in \u001b[0;36m<module>\u001b[0;34m()\u001b[0m\n\u001b[0;32m----> 1\u001b[0;31m \u001b[0mcheves\u001b[0m\u001b[0;34m[\u001b[0m\u001b[0;36m6\u001b[0m\u001b[0;34m]\u001b[0m\u001b[0;34m\u001b[0m\u001b[0;34m\u001b[0m\u001b[0m\n\u001b[0m",
            "\u001b[0;31mIndexError\u001b[0m: list index out of range"
          ]
        }
      ]
    },
    {
      "cell_type": "code",
      "source": [
        "cheves[-1]"
      ],
      "metadata": {
        "colab": {
          "base_uri": "https://localhost:8080/",
          "height": 35
        },
        "id": "8Kt2CcOTlGup",
        "outputId": "d593c925-cb8a-49fb-9f03-a0fc7d4d8f86"
      },
      "execution_count": null,
      "outputs": [
        {
          "output_type": "execute_result",
          "data": {
            "text/plain": [
              "'pacifico'"
            ],
            "application/vnd.google.colaboratory.intrinsic+json": {
              "type": "string"
            }
          },
          "metadata": {},
          "execution_count": 8
        }
      ]
    },
    {
      "cell_type": "code",
      "source": [
        "cheves[::-1]"
      ],
      "metadata": {
        "colab": {
          "base_uri": "https://localhost:8080/"
        },
        "id": "xQyKzhkDlN72",
        "outputId": "c4c29166-0cb2-499e-e01e-aea5b3ce5c67"
      },
      "execution_count": null,
      "outputs": [
        {
          "output_type": "execute_result",
          "data": {
            "text/plain": [
              "['pacifico', 'bohemia', 'indio', 'gallo', 'victoria', 'corona']"
            ]
          },
          "metadata": {},
          "execution_count": 9
        }
      ]
    },
    {
      "cell_type": "code",
      "source": [
        "cheves[2:10]"
      ],
      "metadata": {
        "colab": {
          "base_uri": "https://localhost:8080/"
        },
        "id": "aAh_JKpglnud",
        "outputId": "93e0f8f9-8a99-4911-b715-8dbb9f198fba"
      },
      "execution_count": null,
      "outputs": [
        {
          "output_type": "execute_result",
          "data": {
            "text/plain": [
              "['gallo', 'indio', 'bohemia', 'pacifico']"
            ]
          },
          "metadata": {},
          "execution_count": 10
        }
      ]
    },
    {
      "cell_type": "code",
      "source": [
        "type(cheves[2])"
      ],
      "metadata": {
        "colab": {
          "base_uri": "https://localhost:8080/"
        },
        "id": "EyQ1VECXl2xj",
        "outputId": "13bfefd6-f3c8-449a-c9a4-9c642c104d8c"
      },
      "execution_count": null,
      "outputs": [
        {
          "output_type": "execute_result",
          "data": {
            "text/plain": [
              "str"
            ]
          },
          "metadata": {},
          "execution_count": 11
        }
      ]
    },
    {
      "cell_type": "code",
      "source": [
        "x = [5, ['gato', 'perro'], 'shoto', True]"
      ],
      "metadata": {
        "id": "Ss0SNu-3l_MG"
      },
      "execution_count": null,
      "outputs": []
    },
    {
      "cell_type": "code",
      "source": [
        "x[1][0]"
      ],
      "metadata": {
        "id": "HNoahb-dmLoj",
        "outputId": "bf836cab-f276-42d5-c57d-ef7943240a12",
        "colab": {
          "base_uri": "https://localhost:8080/",
          "height": 35
        }
      },
      "execution_count": null,
      "outputs": [
        {
          "output_type": "execute_result",
          "data": {
            "text/plain": [
              "'gato'"
            ],
            "application/vnd.google.colaboratory.intrinsic+json": {
              "type": "string"
            }
          },
          "metadata": {},
          "execution_count": 14
        }
      ]
    },
    {
      "cell_type": "code",
      "source": [
        "'pacifico' in cheves"
      ],
      "metadata": {
        "id": "EJ8BypzemIfC",
        "colab": {
          "base_uri": "https://localhost:8080/"
        },
        "outputId": "2bdd19a6-54b8-46ce-eeb5-3ac8f3025af7"
      },
      "execution_count": null,
      "outputs": [
        {
          "output_type": "execute_result",
          "data": {
            "text/plain": [
              "True"
            ]
          },
          "metadata": {},
          "execution_count": 15
        }
      ]
    },
    {
      "cell_type": "code",
      "source": [
        "'noche buena' in cheves"
      ],
      "metadata": {
        "colab": {
          "base_uri": "https://localhost:8080/"
        },
        "id": "OQ19TY4bRd2C",
        "outputId": "7253cd05-4b86-4ef1-ce6f-ffd9bc3b76df"
      },
      "execution_count": null,
      "outputs": [
        {
          "output_type": "execute_result",
          "data": {
            "text/plain": [
              "False"
            ]
          },
          "metadata": {},
          "execution_count": 17
        }
      ]
    },
    {
      "cell_type": "code",
      "source": [
        "print(precio_max)\n",
        "print(precio_min)\n",
        "print(precio_max + precio_min)"
      ],
      "metadata": {
        "colab": {
          "base_uri": "https://localhost:8080/"
        },
        "id": "6T-Pw3NCRhye",
        "outputId": "6e56c310-16a2-4a17-98d1-a6ac2b4e18cf"
      },
      "execution_count": null,
      "outputs": [
        {
          "output_type": "stream",
          "name": "stdout",
          "text": [
            "[25, 22, 18, 20, 30, 22]\n",
            "[10, 10, 5, 12, 15, 10]\n",
            "[25, 22, 18, 20, 30, 22, 10, 10, 5, 12, 15, 10]\n"
          ]
        }
      ]
    },
    {
      "cell_type": "code",
      "source": [
        "cheves * 3"
      ],
      "metadata": {
        "colab": {
          "base_uri": "https://localhost:8080/"
        },
        "id": "rrH44UvxR0da",
        "outputId": "71680489-df2d-4d35-a546-9b57435f5d96"
      },
      "execution_count": null,
      "outputs": [
        {
          "output_type": "execute_result",
          "data": {
            "text/plain": [
              "['corona',\n",
              " 'victoria',\n",
              " 'gallo',\n",
              " 'indio',\n",
              " 'bohemia',\n",
              " 'pacifico',\n",
              " 'corona',\n",
              " 'victoria',\n",
              " 'gallo',\n",
              " 'indio',\n",
              " 'bohemia',\n",
              " 'pacifico',\n",
              " 'corona',\n",
              " 'victoria',\n",
              " 'gallo',\n",
              " 'indio',\n",
              " 'bohemia',\n",
              " 'pacifico']"
            ]
          },
          "metadata": {},
          "execution_count": 24
        }
      ]
    },
    {
      "cell_type": "code",
      "source": [
        "cheves[precio_min.index(min(precio_min))]"
      ],
      "metadata": {
        "colab": {
          "base_uri": "https://localhost:8080/",
          "height": 35
        },
        "id": "9Tirke8NSOaV",
        "outputId": "c08709af-ba8c-46d8-8f49-85977fd2a459"
      },
      "execution_count": null,
      "outputs": [
        {
          "output_type": "execute_result",
          "data": {
            "text/plain": [
              "'gallo'"
            ],
            "application/vnd.google.colaboratory.intrinsic+json": {
              "type": "string"
            }
          },
          "metadata": {},
          "execution_count": 35
        }
      ]
    },
    {
      "cell_type": "code",
      "source": [
        "cheves"
      ],
      "metadata": {
        "colab": {
          "base_uri": "https://localhost:8080/"
        },
        "id": "0YXHAh60SmMJ",
        "outputId": "47628443-1e2b-4030-da75-766305a5e7fb"
      },
      "execution_count": null,
      "outputs": [
        {
          "output_type": "execute_result",
          "data": {
            "text/plain": [
              "['corona', 'victoria', 'gallo', 'indio', 'bohemia', 'pacifico']"
            ]
          },
          "metadata": {},
          "execution_count": 36
        }
      ]
    },
    {
      "cell_type": "code",
      "source": [
        "cheves.append('carta blanca')"
      ],
      "metadata": {
        "id": "8yRTb2PrUBe3"
      },
      "execution_count": null,
      "outputs": []
    },
    {
      "cell_type": "code",
      "source": [
        "cheves"
      ],
      "metadata": {
        "colab": {
          "base_uri": "https://localhost:8080/"
        },
        "id": "hT4xFluIUWDz",
        "outputId": "aae56ecd-3067-4a9f-e07a-0cf242d7f3ba"
      },
      "execution_count": null,
      "outputs": [
        {
          "output_type": "execute_result",
          "data": {
            "text/plain": [
              "['corona', 'victoria', 'gallo', 'indio', 'bohemia', 'pacifico', 'carta blanca']"
            ]
          },
          "metadata": {},
          "execution_count": 38
        }
      ]
    },
    {
      "cell_type": "code",
      "source": [
        "cheves.append(3,'corona')"
      ],
      "metadata": {
        "colab": {
          "base_uri": "https://localhost:8080/",
          "height": 167
        },
        "id": "UMLzaGHwUZAh",
        "outputId": "f7d1934d-145d-4c28-8f6d-efcc7f777aae"
      },
      "execution_count": null,
      "outputs": [
        {
          "output_type": "error",
          "ename": "TypeError",
          "evalue": "ignored",
          "traceback": [
            "\u001b[0;31m---------------------------------------------------------------------------\u001b[0m",
            "\u001b[0;31mTypeError\u001b[0m                                 Traceback (most recent call last)",
            "\u001b[0;32m<ipython-input-50-b2be4436d2c5>\u001b[0m in \u001b[0;36m<module>\u001b[0;34m()\u001b[0m\n\u001b[0;32m----> 1\u001b[0;31m \u001b[0mcheves\u001b[0m\u001b[0;34m.\u001b[0m\u001b[0mappend\u001b[0m\u001b[0;34m(\u001b[0m\u001b[0;36m3\u001b[0m\u001b[0;34m,\u001b[0m\u001b[0;34m'corona'\u001b[0m\u001b[0;34m)\u001b[0m\u001b[0;34m\u001b[0m\u001b[0;34m\u001b[0m\u001b[0m\n\u001b[0m",
            "\u001b[0;31mTypeError\u001b[0m: append() takes exactly one argument (2 given)"
          ]
        }
      ]
    },
    {
      "cell_type": "code",
      "source": [
        "cheves"
      ],
      "metadata": {
        "colab": {
          "base_uri": "https://localhost:8080/"
        },
        "id": "R6-ia93jUnex",
        "outputId": "3d5c4283-556a-4407-b7b6-d4b0a4bcba95"
      },
      "execution_count": null,
      "outputs": [
        {
          "output_type": "execute_result",
          "data": {
            "text/plain": [
              "['corona',\n",
              " 'victoria',\n",
              " 'gallo',\n",
              " 'indio',\n",
              " 'bohemia',\n",
              " 'pacifico',\n",
              " 'carta blanca',\n",
              " 'corona']"
            ]
          },
          "metadata": {},
          "execution_count": 40
        }
      ]
    },
    {
      "cell_type": "code",
      "source": [
        "cheves.remove('corona')\n",
        "cheves"
      ],
      "metadata": {
        "colab": {
          "base_uri": "https://localhost:8080/"
        },
        "id": "hivzL7hoUoRN",
        "outputId": "42516cd9-ee0a-4154-bcc7-33686f1d0477"
      },
      "execution_count": null,
      "outputs": [
        {
          "output_type": "execute_result",
          "data": {
            "text/plain": [
              "['victoria', 'gallo', 'indio', 'bohemia', 'pacifico', 'carta blanca', 'corona']"
            ]
          },
          "metadata": {},
          "execution_count": 41
        }
      ]
    },
    {
      "cell_type": "code",
      "source": [
        "cheves.insert(0, 'corona')\n",
        "cheves"
      ],
      "metadata": {
        "colab": {
          "base_uri": "https://localhost:8080/"
        },
        "id": "bsbg3aTKUvdk",
        "outputId": "1eeb95cc-0208-4dce-8b20-e1587a61b848"
      },
      "execution_count": null,
      "outputs": [
        {
          "output_type": "execute_result",
          "data": {
            "text/plain": [
              "['corona',\n",
              " 'victoria',\n",
              " 'gallo',\n",
              " 'indio',\n",
              " 'bohemia',\n",
              " 'pacifico',\n",
              " 'carta blanca',\n",
              " 'corona']"
            ]
          },
          "metadata": {},
          "execution_count": 42
        }
      ]
    },
    {
      "cell_type": "code",
      "source": [
        "cheves.pop()"
      ],
      "metadata": {
        "colab": {
          "base_uri": "https://localhost:8080/",
          "height": 35
        },
        "id": "pnKuEjN1U-LC",
        "outputId": "9ec39a19-66c5-4ef1-dae5-4bb0a9a0e0a6"
      },
      "execution_count": null,
      "outputs": [
        {
          "output_type": "execute_result",
          "data": {
            "text/plain": [
              "'corona'"
            ],
            "application/vnd.google.colaboratory.intrinsic+json": {
              "type": "string"
            }
          },
          "metadata": {},
          "execution_count": 43
        }
      ]
    },
    {
      "cell_type": "code",
      "source": [
        "cheves"
      ],
      "metadata": {
        "colab": {
          "base_uri": "https://localhost:8080/"
        },
        "id": "VKEzWaI-VJy4",
        "outputId": "e4e30248-4c42-4a99-b73a-5da521d4961a"
      },
      "execution_count": null,
      "outputs": [
        {
          "output_type": "execute_result",
          "data": {
            "text/plain": [
              "['corona', 'victoria', 'gallo', 'indio', 'bohemia', 'pacifico', 'carta blanca']"
            ]
          },
          "metadata": {},
          "execution_count": 44
        }
      ]
    },
    {
      "cell_type": "code",
      "source": [
        "cheves.pop(1)"
      ],
      "metadata": {
        "colab": {
          "base_uri": "https://localhost:8080/",
          "height": 35
        },
        "id": "I3yadbz1VL9b",
        "outputId": "2e32d322-cd03-4826-dc67-2d494fa07b97"
      },
      "execution_count": null,
      "outputs": [
        {
          "output_type": "execute_result",
          "data": {
            "text/plain": [
              "'victoria'"
            ],
            "application/vnd.google.colaboratory.intrinsic+json": {
              "type": "string"
            }
          },
          "metadata": {},
          "execution_count": 45
        }
      ]
    },
    {
      "cell_type": "code",
      "source": [
        "cheves"
      ],
      "metadata": {
        "colab": {
          "base_uri": "https://localhost:8080/"
        },
        "id": "XXsqskUBVVlc",
        "outputId": "a126c1d1-0544-4c90-edcd-252a9c23143c"
      },
      "execution_count": null,
      "outputs": [
        {
          "output_type": "execute_result",
          "data": {
            "text/plain": [
              "['corona', 'gallo', 'indio', 'bohemia', 'pacifico', 'carta blanca']"
            ]
          },
          "metadata": {},
          "execution_count": 46
        }
      ]
    },
    {
      "cell_type": "code",
      "source": [
        "cheves.insert(1, 'victoria')\n",
        "cheves"
      ],
      "metadata": {
        "colab": {
          "base_uri": "https://localhost:8080/"
        },
        "id": "1_-36NoJVXD9",
        "outputId": "3703e6b7-dd19-4274-bf9d-4f3e014cd57a"
      },
      "execution_count": null,
      "outputs": [
        {
          "output_type": "execute_result",
          "data": {
            "text/plain": [
              "['corona', 'victoria', 'gallo', 'indio', 'bohemia', 'pacifico', 'carta blanca']"
            ]
          },
          "metadata": {},
          "execution_count": 47
        }
      ]
    },
    {
      "cell_type": "code",
      "source": [
        "cheves.sort()"
      ],
      "metadata": {
        "id": "EA5BWGTNVbSp"
      },
      "execution_count": null,
      "outputs": []
    },
    {
      "cell_type": "code",
      "source": [
        "cheves"
      ],
      "metadata": {
        "colab": {
          "base_uri": "https://localhost:8080/"
        },
        "id": "ggN2NPiDV1_k",
        "outputId": "3627b996-3ef1-4824-abb7-3044133f01d9"
      },
      "execution_count": null,
      "outputs": [
        {
          "output_type": "execute_result",
          "data": {
            "text/plain": [
              "['bohemia', 'carta blanca', 'corona', 'gallo', 'indio', 'pacifico', 'victoria']"
            ]
          },
          "metadata": {},
          "execution_count": 49
        }
      ]
    },
    {
      "cell_type": "code",
      "source": [
        "cheves.reverse()\n",
        "cheves"
      ],
      "metadata": {
        "colab": {
          "base_uri": "https://localhost:8080/"
        },
        "id": "JCaHqlS8V25C",
        "outputId": "992138a9-33d9-4c84-f972-01009bcdd4d5"
      },
      "execution_count": null,
      "outputs": [
        {
          "output_type": "execute_result",
          "data": {
            "text/plain": [
              "['victoria', 'pacifico', 'indio', 'gallo', 'corona', 'carta blanca', 'bohemia']"
            ]
          },
          "metadata": {},
          "execution_count": 51
        }
      ]
    },
    {
      "cell_type": "code",
      "source": [
        "cheves = ['victoria', 'pacifico', 'indio', 'gallo', \n",
        "          'corona', 'carta blanca', 'bohemia']"
      ],
      "metadata": {
        "id": "xYn3vVCzXH3J"
      },
      "execution_count": null,
      "outputs": []
    },
    {
      "cell_type": "code",
      "source": [
        "cheves2 = cheves\n",
        "cheves2"
      ],
      "metadata": {
        "colab": {
          "base_uri": "https://localhost:8080/"
        },
        "id": "nHWSx_5BWP4r",
        "outputId": "e226498d-382d-4fec-eb5b-01bd2c86f9fc"
      },
      "execution_count": null,
      "outputs": [
        {
          "output_type": "execute_result",
          "data": {
            "text/plain": [
              "['victoria', 'pacifico', 'indio', 'gallo', 'corona', 'carta blanca', 'bohemia']"
            ]
          },
          "metadata": {},
          "execution_count": 57
        }
      ]
    },
    {
      "cell_type": "code",
      "source": [
        "print(id(cheves), id(cheves2))"
      ],
      "metadata": {
        "colab": {
          "base_uri": "https://localhost:8080/"
        },
        "id": "X1Jx96G1XWEm",
        "outputId": "989ffbdc-4f0e-4cf4-fa90-d27ad5c10a5b"
      },
      "execution_count": null,
      "outputs": [
        {
          "output_type": "stream",
          "name": "stdout",
          "text": [
            "140651064915200 140651064915200\n"
          ]
        }
      ]
    },
    {
      "cell_type": "code",
      "source": [
        "cheves2[1] = 'negra modelo'"
      ],
      "metadata": {
        "id": "bwJQ-dZmWd_W"
      },
      "execution_count": null,
      "outputs": []
    },
    {
      "cell_type": "code",
      "source": [
        "cheves2[1]"
      ],
      "metadata": {
        "colab": {
          "base_uri": "https://localhost:8080/",
          "height": 35
        },
        "id": "q8eXfh3BYrDu",
        "outputId": "79b20a61-e259-44e1-e092-217460872d9f"
      },
      "execution_count": null,
      "outputs": [
        {
          "output_type": "execute_result",
          "data": {
            "text/plain": [
              "'negra modelo'"
            ],
            "application/vnd.google.colaboratory.intrinsic+json": {
              "type": "string"
            }
          },
          "metadata": {},
          "execution_count": 66
        }
      ]
    },
    {
      "cell_type": "code",
      "source": [
        "cheves[1]"
      ],
      "metadata": {
        "colab": {
          "base_uri": "https://localhost:8080/",
          "height": 35
        },
        "id": "uLuoisJRWquC",
        "outputId": "e93c6638-951d-4e14-fa80-26254c96fa1e"
      },
      "execution_count": null,
      "outputs": [
        {
          "output_type": "execute_result",
          "data": {
            "text/plain": [
              "'negra modelo'"
            ],
            "application/vnd.google.colaboratory.intrinsic+json": {
              "type": "string"
            }
          },
          "metadata": {},
          "execution_count": 60
        }
      ]
    },
    {
      "cell_type": "code",
      "source": [
        "cheves3 = cheves.copy()"
      ],
      "metadata": {
        "id": "s0GeqfbMXphP"
      },
      "execution_count": null,
      "outputs": []
    },
    {
      "cell_type": "code",
      "source": [
        "print(id(cheves2), id(cheves3))"
      ],
      "metadata": {
        "colab": {
          "base_uri": "https://localhost:8080/"
        },
        "id": "Wgb0uxWLXx3n",
        "outputId": "dfb0363a-30c4-4494-cd8e-ede94c858687"
      },
      "execution_count": null,
      "outputs": [
        {
          "output_type": "stream",
          "name": "stdout",
          "text": [
            "140651064915200 140650938523552\n"
          ]
        }
      ]
    },
    {
      "cell_type": "code",
      "source": [
        "cheves3[1] = 'pacifico'"
      ],
      "metadata": {
        "id": "pYu8CkAVX0s7"
      },
      "execution_count": null,
      "outputs": []
    },
    {
      "cell_type": "code",
      "source": [
        "cheves2[1]"
      ],
      "metadata": {
        "colab": {
          "base_uri": "https://localhost:8080/",
          "height": 35
        },
        "id": "ttePQre2X6mH",
        "outputId": "a3ab5db4-905d-4c86-b231-6f4d4c975083"
      },
      "execution_count": null,
      "outputs": [
        {
          "output_type": "execute_result",
          "data": {
            "text/plain": [
              "'negra modelo'"
            ],
            "application/vnd.google.colaboratory.intrinsic+json": {
              "type": "string"
            }
          },
          "metadata": {},
          "execution_count": 64
        }
      ]
    },
    {
      "cell_type": "code",
      "source": [
        "cheves3[1]"
      ],
      "metadata": {
        "colab": {
          "base_uri": "https://localhost:8080/",
          "height": 35
        },
        "id": "kyLrPwNjX9Og",
        "outputId": "e8145459-47d8-483d-f1d9-4c37f76c844d"
      },
      "execution_count": null,
      "outputs": [
        {
          "output_type": "execute_result",
          "data": {
            "text/plain": [
              "'pacifico'"
            ],
            "application/vnd.google.colaboratory.intrinsic+json": {
              "type": "string"
            }
          },
          "metadata": {},
          "execution_count": 65
        }
      ]
    },
    {
      "cell_type": "code",
      "source": [
        "print(f'''\n",
        "Mi \n",
        "cheve \n",
        "favorita \n",
        "es \n",
        "{cheves3[1]}''')"
      ],
      "metadata": {
        "colab": {
          "base_uri": "https://localhost:8080/"
        },
        "id": "Y2YUZ8pCZ7_I",
        "outputId": "d1a8336e-c218-414b-e3ad-2b0d8030f373"
      },
      "execution_count": null,
      "outputs": [
        {
          "output_type": "stream",
          "name": "stdout",
          "text": [
            "\n",
            "Mi \n",
            "cheve \n",
            "favorita \n",
            "es \n",
            "pacifico\n"
          ]
        }
      ]
    },
    {
      "cell_type": "markdown",
      "source": [
        "### tuplas"
      ],
      "metadata": {
        "id": "priXZzvtbTpg"
      }
    },
    {
      "cell_type": "code",
      "source": [
        "caguama = ('corona familiar', 'pacifico ballenon', 'laton miller')"
      ],
      "metadata": {
        "id": "AizjPKH8aZCJ"
      },
      "execution_count": null,
      "outputs": []
    },
    {
      "cell_type": "code",
      "source": [
        "caguama"
      ],
      "metadata": {
        "colab": {
          "base_uri": "https://localhost:8080/"
        },
        "id": "Rd-W87nbcQXj",
        "outputId": "32257157-c083-418f-ae84-cf6b6f34f45b"
      },
      "execution_count": null,
      "outputs": [
        {
          "output_type": "execute_result",
          "data": {
            "text/plain": [
              "('corona familiar', 'pacifico ballenon', 'laton miller')"
            ]
          },
          "metadata": {},
          "execution_count": 90
        }
      ]
    },
    {
      "cell_type": "code",
      "source": [
        "type(caguama)"
      ],
      "metadata": {
        "colab": {
          "base_uri": "https://localhost:8080/"
        },
        "id": "DG7bgIStb0gR",
        "outputId": "2857b482-c284-414c-e67e-64802d2f8ea3"
      },
      "execution_count": null,
      "outputs": [
        {
          "output_type": "execute_result",
          "data": {
            "text/plain": [
              "tuple"
            ]
          },
          "metadata": {},
          "execution_count": 84
        }
      ]
    },
    {
      "cell_type": "code",
      "source": [
        "caguama[1]"
      ],
      "metadata": {
        "colab": {
          "base_uri": "https://localhost:8080/",
          "height": 35
        },
        "id": "0d8YW7XTb3eC",
        "outputId": "42e2518a-2cfa-404b-a154-742111e01b4f"
      },
      "execution_count": null,
      "outputs": [
        {
          "output_type": "execute_result",
          "data": {
            "text/plain": [
              "'pacifico ballenon'"
            ],
            "application/vnd.google.colaboratory.intrinsic+json": {
              "type": "string"
            }
          },
          "metadata": {},
          "execution_count": 85
        }
      ]
    },
    {
      "cell_type": "code",
      "source": [
        "caguama[-1]"
      ],
      "metadata": {
        "colab": {
          "base_uri": "https://localhost:8080/",
          "height": 35
        },
        "id": "g_Cnql6fb6nx",
        "outputId": "dc2b24a7-abd4-4b8f-8563-0257f358a152"
      },
      "execution_count": null,
      "outputs": [
        {
          "output_type": "execute_result",
          "data": {
            "text/plain": [
              "'laton miller'"
            ],
            "application/vnd.google.colaboratory.intrinsic+json": {
              "type": "string"
            }
          },
          "metadata": {},
          "execution_count": 86
        }
      ]
    },
    {
      "cell_type": "code",
      "source": [
        "caguama[0] = 'Victoria'"
      ],
      "metadata": {
        "colab": {
          "base_uri": "https://localhost:8080/",
          "height": 167
        },
        "id": "NBZK9vqib9V9",
        "outputId": "4982c12e-0c29-4aba-da59-efd9ca28a6ec"
      },
      "execution_count": null,
      "outputs": [
        {
          "output_type": "error",
          "ename": "TypeError",
          "evalue": "ignored",
          "traceback": [
            "\u001b[0;31m---------------------------------------------------------------------------\u001b[0m",
            "\u001b[0;31mTypeError\u001b[0m                                 Traceback (most recent call last)",
            "\u001b[0;32m<ipython-input-87-8bf62c685909>\u001b[0m in \u001b[0;36m<module>\u001b[0;34m()\u001b[0m\n\u001b[0;32m----> 1\u001b[0;31m \u001b[0mcaguama\u001b[0m\u001b[0;34m[\u001b[0m\u001b[0;36m0\u001b[0m\u001b[0;34m]\u001b[0m \u001b[0;34m=\u001b[0m \u001b[0;34m'Victoria'\u001b[0m\u001b[0;34m\u001b[0m\u001b[0;34m\u001b[0m\u001b[0m\n\u001b[0m",
            "\u001b[0;31mTypeError\u001b[0m: 'tuple' object does not support item assignment"
          ]
        }
      ]
    },
    {
      "cell_type": "code",
      "source": [
        "caguama_lista = list(caguama)"
      ],
      "metadata": {
        "id": "66t35uwLcCHq"
      },
      "execution_count": null,
      "outputs": []
    },
    {
      "cell_type": "code",
      "source": [
        "caguama_lista[0] = 'Victoria'"
      ],
      "metadata": {
        "id": "3-P1lVGLcMXN"
      },
      "execution_count": null,
      "outputs": []
    },
    {
      "cell_type": "code",
      "source": [
        "caguama = tuple(caguama_lista)"
      ],
      "metadata": {
        "id": "WuEoSlTTcOvJ"
      },
      "execution_count": null,
      "outputs": []
    },
    {
      "cell_type": "code",
      "source": [
        "caguama"
      ],
      "metadata": {
        "colab": {
          "base_uri": "https://localhost:8080/"
        },
        "id": "lXSQan2mcbus",
        "outputId": "27d16e01-00f6-46d2-c8dd-98c14a42478c"
      },
      "execution_count": null,
      "outputs": [
        {
          "output_type": "execute_result",
          "data": {
            "text/plain": [
              "('Victoria', 'pacifico ballenon', 'laton miller')"
            ]
          },
          "metadata": {},
          "execution_count": 95
        }
      ]
    },
    {
      "cell_type": "markdown",
      "source": [
        "## diccionarios"
      ],
      "metadata": {
        "id": "5pLUuvcRf6In"
      }
    },
    {
      "cell_type": "code",
      "source": [
        "diccionario = {\n",
        "    'Luis': 31,\n",
        "    'Pach': 31,\n",
        "    'Alfredo': 36,\n",
        "    'Guillermo':32\n",
        "}"
      ],
      "metadata": {
        "id": "_tXckXynf7oA"
      },
      "execution_count": null,
      "outputs": []
    },
    {
      "cell_type": "code",
      "source": [
        "type(diccionario)"
      ],
      "metadata": {
        "colab": {
          "base_uri": "https://localhost:8080/"
        },
        "id": "4_B5jh1lgzMZ",
        "outputId": "01713fcb-7cae-42d9-88d4-264cf000311d"
      },
      "execution_count": null,
      "outputs": [
        {
          "output_type": "execute_result",
          "data": {
            "text/plain": [
              "dict"
            ]
          },
          "metadata": {},
          "execution_count": 110
        }
      ]
    },
    {
      "cell_type": "code",
      "source": [
        "print(diccionario)"
      ],
      "metadata": {
        "colab": {
          "base_uri": "https://localhost:8080/"
        },
        "id": "4F9p9fS5g9xF",
        "outputId": "336ff88b-f90a-4cc2-d04c-9b584eeed015"
      },
      "execution_count": null,
      "outputs": [
        {
          "output_type": "stream",
          "name": "stdout",
          "text": [
            "{'Luis': 31, 'Pach': 31, 'Alfredo': 36, 32: 32}\n"
          ]
        }
      ]
    },
    {
      "cell_type": "code",
      "source": [
        "diccionario['Mariela'] = 29\n",
        "print(diccionario)"
      ],
      "metadata": {
        "colab": {
          "base_uri": "https://localhost:8080/"
        },
        "id": "muFXD9PNg_kR",
        "outputId": "d3ffea9e-cd6f-4a4d-d1fd-01fc4eb365ef"
      },
      "execution_count": null,
      "outputs": [
        {
          "output_type": "stream",
          "name": "stdout",
          "text": [
            "{'Luis': 31, 'Pach': 31, 'Alfredo': 36, 'Guillermo': 32, 'Mariela': 29}\n"
          ]
        }
      ]
    },
    {
      "cell_type": "code",
      "source": [
        "diccionario['Alfredo']"
      ],
      "metadata": {
        "colab": {
          "base_uri": "https://localhost:8080/"
        },
        "id": "2e0ixO-Jhg7s",
        "outputId": "20c2665c-d9e7-4656-fda4-0e8aa01a51c1"
      },
      "execution_count": null,
      "outputs": [
        {
          "output_type": "execute_result",
          "data": {
            "text/plain": [
              "36"
            ]
          },
          "metadata": {},
          "execution_count": 111
        }
      ]
    },
    {
      "cell_type": "code",
      "source": [
        "cheves = dict(Victoria=20, Corona= 18, Sol=15)"
      ],
      "metadata": {
        "id": "CWhaglkOiVmk"
      },
      "execution_count": null,
      "outputs": []
    },
    {
      "cell_type": "code",
      "source": [
        "cheves"
      ],
      "metadata": {
        "colab": {
          "base_uri": "https://localhost:8080/"
        },
        "id": "c4J9AKgCisQ7",
        "outputId": "107263c4-80d5-4ec0-ddd9-37476fde8977"
      },
      "execution_count": null,
      "outputs": [
        {
          "output_type": "execute_result",
          "data": {
            "text/plain": [
              "{'Corona': 18, 'Sol': 15, 'Victoria': 20}"
            ]
          },
          "metadata": {},
          "execution_count": 114
        }
      ]
    },
    {
      "cell_type": "code",
      "source": [
        "dict(zip('abcde', [1,2,3,4,5]))"
      ],
      "metadata": {
        "colab": {
          "base_uri": "https://localhost:8080/"
        },
        "id": "Fm-Bk-wNiu5a",
        "outputId": "754743b2-f582-4d38-fbcd-5df5e6088a2b"
      },
      "execution_count": null,
      "outputs": [
        {
          "output_type": "execute_result",
          "data": {
            "text/plain": [
              "{'a': 1, 'b': 2, 'c': 3, 'd': 4, 'e': 5}"
            ]
          },
          "metadata": {},
          "execution_count": 115
        }
      ]
    },
    {
      "cell_type": "code",
      "source": [
        "list(cheves)"
      ],
      "metadata": {
        "colab": {
          "base_uri": "https://localhost:8080/"
        },
        "id": "Mn-odNlcjGe9",
        "outputId": "9b435a3a-213c-4222-dbcc-492f3ce7e35d"
      },
      "execution_count": null,
      "outputs": [
        {
          "output_type": "execute_result",
          "data": {
            "text/plain": [
              "['Victoria', 'Corona', 'Sol']"
            ]
          },
          "metadata": {},
          "execution_count": 116
        }
      ]
    },
    {
      "cell_type": "code",
      "source": [
        "tuple(cheves)"
      ],
      "metadata": {
        "colab": {
          "base_uri": "https://localhost:8080/"
        },
        "id": "0n5qdCT8jPE_",
        "outputId": "6bcdfbdf-d4f8-4a17-c97b-0856b3c56a1d"
      },
      "execution_count": null,
      "outputs": [
        {
          "output_type": "execute_result",
          "data": {
            "text/plain": [
              "('Victoria', 'Corona', 'Sol')"
            ]
          },
          "metadata": {},
          "execution_count": 117
        }
      ]
    },
    {
      "cell_type": "code",
      "source": [
        "len(cheves)"
      ],
      "metadata": {
        "colab": {
          "base_uri": "https://localhost:8080/"
        },
        "id": "8jtUxkAdjVAQ",
        "outputId": "bc170c5c-8b86-4864-b61a-fcea1e2f3e38"
      },
      "execution_count": null,
      "outputs": [
        {
          "output_type": "execute_result",
          "data": {
            "text/plain": [
              "3"
            ]
          },
          "metadata": {},
          "execution_count": 118
        }
      ]
    },
    {
      "cell_type": "code",
      "source": [
        "cheves.keys()"
      ],
      "metadata": {
        "colab": {
          "base_uri": "https://localhost:8080/"
        },
        "id": "1_Ol3eqAjiAz",
        "outputId": "1f2553e4-931e-47a4-9759-6443628031f2"
      },
      "execution_count": null,
      "outputs": [
        {
          "output_type": "execute_result",
          "data": {
            "text/plain": [
              "dict_keys(['Victoria', 'Corona', 'Sol'])"
            ]
          },
          "metadata": {},
          "execution_count": 119
        }
      ]
    },
    {
      "cell_type": "code",
      "source": [
        "cheves['negra modelo'] = 30"
      ],
      "metadata": {
        "id": "JOh5eArNjmAF"
      },
      "execution_count": null,
      "outputs": []
    },
    {
      "cell_type": "code",
      "source": [
        "cheves"
      ],
      "metadata": {
        "colab": {
          "base_uri": "https://localhost:8080/"
        },
        "id": "If5S8EA0jsf7",
        "outputId": "1e3ab1db-bd6f-4b0c-8575-31d9f1346bb7"
      },
      "execution_count": null,
      "outputs": [
        {
          "output_type": "execute_result",
          "data": {
            "text/plain": [
              "{'Corona': 18, 'Sol': 15, 'Victoria': 20, 'negra modelo': 30}"
            ]
          },
          "metadata": {},
          "execution_count": 121
        }
      ]
    },
    {
      "cell_type": "code",
      "source": [
        "diccionario.update(cheves)"
      ],
      "metadata": {
        "id": "GB264xlxjtVx"
      },
      "execution_count": null,
      "outputs": []
    },
    {
      "cell_type": "code",
      "source": [
        "diccionario"
      ],
      "metadata": {
        "colab": {
          "base_uri": "https://localhost:8080/"
        },
        "id": "p23Bk1kNj2SJ",
        "outputId": "a975d533-50eb-4eac-a33b-abd27eb921f3"
      },
      "execution_count": null,
      "outputs": [
        {
          "output_type": "execute_result",
          "data": {
            "text/plain": [
              "{'Alfredo': 36,\n",
              " 'Corona': 18,\n",
              " 'Guillermo': 32,\n",
              " 'Luis': 31,\n",
              " 'Pach': 31,\n",
              " 'Sol': 15,\n",
              " 'Victoria': 20,\n",
              " 'negra modelo': 30}"
            ]
          },
          "metadata": {},
          "execution_count": 123
        }
      ]
    },
    {
      "cell_type": "code",
      "source": [
        "nuevas_edades = {'Luis': 32, 'Pach': 32}"
      ],
      "metadata": {
        "id": "cvi_LS5Wj3pT"
      },
      "execution_count": null,
      "outputs": []
    },
    {
      "cell_type": "code",
      "source": [
        "diccionario.update(nuevas_edades)"
      ],
      "metadata": {
        "id": "k3muktb5kGjF"
      },
      "execution_count": null,
      "outputs": []
    },
    {
      "cell_type": "code",
      "source": [
        "diccionario"
      ],
      "metadata": {
        "colab": {
          "base_uri": "https://localhost:8080/"
        },
        "id": "ev5TZt7XkQKj",
        "outputId": "a464b1e3-d863-437d-fcb1-c56fc78d912e"
      },
      "execution_count": null,
      "outputs": [
        {
          "output_type": "execute_result",
          "data": {
            "text/plain": [
              "{'Alfredo': 36,\n",
              " 'Corona': 18,\n",
              " 'Guillermo': 32,\n",
              " 'Luis': 32,\n",
              " 'Pach': 32,\n",
              " 'Sol': 15,\n",
              " 'Victoria': 20,\n",
              " 'negra modelo': 30}"
            ]
          },
          "metadata": {},
          "execution_count": 126
        }
      ]
    },
    {
      "cell_type": "code",
      "source": [
        "cheves = {\n",
        "    'Sol': {'oxxo':18, 'aurrera':16, 'soriana':20},\n",
        "    'Victoria': {'oxxo':19, 'aurrera':17, 'soriana':22}\n",
        "}"
      ],
      "metadata": {
        "id": "XPp8U5l_kR3U"
      },
      "execution_count": null,
      "outputs": []
    },
    {
      "cell_type": "code",
      "source": [
        "cheves['Sol']['soriana']"
      ],
      "metadata": {
        "colab": {
          "base_uri": "https://localhost:8080/"
        },
        "id": "Wn-MDmTxk6cq",
        "outputId": "c8767c22-3537-48f5-b102-a40b512698c4"
      },
      "execution_count": null,
      "outputs": [
        {
          "output_type": "execute_result",
          "data": {
            "text/plain": [
              "20"
            ]
          },
          "metadata": {},
          "execution_count": 132
        }
      ]
    },
    {
      "cell_type": "code",
      "source": [
        "print('Hello World')"
      ],
      "metadata": {
        "colab": {
          "base_uri": "https://localhost:8080/"
        },
        "id": "OwfpE26OmI60",
        "outputId": "36811b00-e229-45f4-8f95-8db60804b722"
      },
      "execution_count": null,
      "outputs": [
        {
          "output_type": "stream",
          "name": "stdout",
          "text": [
            "Hello World\n"
          ]
        }
      ]
    },
    {
      "cell_type": "code",
      "source": [
        ""
      ],
      "metadata": {
        "id": "V9o6ZXcdmM-3"
      },
      "execution_count": null,
      "outputs": []
    }
  ]
}